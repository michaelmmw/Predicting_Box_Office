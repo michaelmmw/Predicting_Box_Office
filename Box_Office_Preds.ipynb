{
 "cells": [
  {
   "cell_type": "code",
   "execution_count": 8,
   "metadata": {},
   "outputs": [],
   "source": [
    "import pandas as pd\n",
    "import numpy as np \n",
    "import matplotlib.pyplot as plt\n",
    "import sklearn \n",
    "import statsmodels.api as sm\n",
    "from ast import literal_eval\n",
    "import math\n",
    "from collections import Counter, OrderedDict\n",
    "from sklearn import preprocessing\n",
    "from sklearn.model_selection import train_test_split\n",
    "from sklearn import tree\n",
    "from wordcloud import WordCloud, STOPWORDS, ImageColorGenerator\n",
    "from sklearn.feature_extraction.text import TfidfVectorizer\n",
    "from sklearn.decomposition import PCA\n",
    "from sklearn.tree import DecisionTreeRegressor"
   ]
  },
  {
   "cell_type": "code",
   "execution_count": 2,
   "metadata": {},
   "outputs": [],
   "source": [
    "train_data = pd.read_excel(\"tmdb-box-office-prediction/train.xlsx\")"
   ]
  },
  {
   "cell_type": "markdown",
   "metadata": {},
   "source": [
    "Data visualisation, and exploration:"
   ]
  },
  {
   "cell_type": "code",
   "execution_count": 5,
   "metadata": {},
   "outputs": [
    {
     "data": {
      "text/plain": [
       "Index(['id', 'belongs_to_collection', 'budget', 'genres', 'homepage',\n",
       "       'imdb_id', 'original_language', 'original_title', 'overview',\n",
       "       'popularity', 'poster_path', 'production_companies',\n",
       "       'production_countries', 'release_date', 'runtime', 'spoken_languages',\n",
       "       'status', 'tagline', 'title', 'Keywords', 'cast', 'crew', 'revenue'],\n",
       "      dtype='object')"
      ]
     },
     "execution_count": 5,
     "metadata": {},
     "output_type": "execute_result"
    }
   ],
   "source": [
    "train_data.columns\n"
   ]
  },
  {
   "cell_type": "code",
   "execution_count": 6,
   "metadata": {},
   "outputs": [],
   "source": [
    "cols = train_data.columns"
   ]
  },
  {
   "cell_type": "code",
   "execution_count": 7,
   "metadata": {},
   "outputs": [
    {
     "data": {
      "text/html": [
       "<div>\n",
       "<style scoped>\n",
       "    .dataframe tbody tr th:only-of-type {\n",
       "        vertical-align: middle;\n",
       "    }\n",
       "\n",
       "    .dataframe tbody tr th {\n",
       "        vertical-align: top;\n",
       "    }\n",
       "\n",
       "    .dataframe thead th {\n",
       "        text-align: right;\n",
       "    }\n",
       "</style>\n",
       "<table border=\"1\" class=\"dataframe\">\n",
       "  <thead>\n",
       "    <tr style=\"text-align: right;\">\n",
       "      <th></th>\n",
       "      <th>id</th>\n",
       "      <th>belongs_to_collection</th>\n",
       "      <th>budget</th>\n",
       "      <th>genres</th>\n",
       "      <th>homepage</th>\n",
       "      <th>imdb_id</th>\n",
       "      <th>original_language</th>\n",
       "      <th>original_title</th>\n",
       "      <th>overview</th>\n",
       "      <th>popularity</th>\n",
       "      <th>...</th>\n",
       "      <th>release_date</th>\n",
       "      <th>runtime</th>\n",
       "      <th>spoken_languages</th>\n",
       "      <th>status</th>\n",
       "      <th>tagline</th>\n",
       "      <th>title</th>\n",
       "      <th>Keywords</th>\n",
       "      <th>cast</th>\n",
       "      <th>crew</th>\n",
       "      <th>revenue</th>\n",
       "    </tr>\n",
       "  </thead>\n",
       "  <tbody>\n",
       "    <tr>\n",
       "      <td>0</td>\n",
       "      <td>1</td>\n",
       "      <td>[{'id': 313576, 'name': 'Hot Tub Time Machine ...</td>\n",
       "      <td>14000000</td>\n",
       "      <td>[{'id': 35, 'name': 'Comedy'}]</td>\n",
       "      <td>NaN</td>\n",
       "      <td>tt2637294</td>\n",
       "      <td>en</td>\n",
       "      <td>Hot Tub Time Machine 2</td>\n",
       "      <td>When Lou, who has become the \"father of the In...</td>\n",
       "      <td>6.575393</td>\n",
       "      <td>...</td>\n",
       "      <td>2015-02-20</td>\n",
       "      <td>93.0</td>\n",
       "      <td>[{'iso_639_1': 'en', 'name': 'English'}]</td>\n",
       "      <td>Released</td>\n",
       "      <td>The Laws of Space and Time are About to be Vio...</td>\n",
       "      <td>Hot Tub Time Machine 2</td>\n",
       "      <td>[{'id': 4379, 'name': 'time travel'}, {'id': 9...</td>\n",
       "      <td>[{'cast_id': 4, 'character': 'Lou', 'credit_id...</td>\n",
       "      <td>[{'credit_id': '59ac067c92514107af02c8c8', 'de...</td>\n",
       "      <td>12314651</td>\n",
       "    </tr>\n",
       "    <tr>\n",
       "      <td>1</td>\n",
       "      <td>2</td>\n",
       "      <td>[{'id': 107674, 'name': 'The Princess Diaries ...</td>\n",
       "      <td>40000000</td>\n",
       "      <td>[{'id': 35, 'name': 'Comedy'}, {'id': 18, 'nam...</td>\n",
       "      <td>NaN</td>\n",
       "      <td>tt0368933</td>\n",
       "      <td>en</td>\n",
       "      <td>The Princess Diaries 2: Royal Engagement</td>\n",
       "      <td>Mia Thermopolis is now a college graduate and ...</td>\n",
       "      <td>8.248895</td>\n",
       "      <td>...</td>\n",
       "      <td>2004-08-06</td>\n",
       "      <td>113.0</td>\n",
       "      <td>[{'iso_639_1': 'en', 'name': 'English'}]</td>\n",
       "      <td>Released</td>\n",
       "      <td>It can take a lifetime to find true love; she'...</td>\n",
       "      <td>The Princess Diaries 2: Royal Engagement</td>\n",
       "      <td>[{'id': 2505, 'name': 'coronation'}, {'id': 42...</td>\n",
       "      <td>[{'cast_id': 1, 'character': 'Mia Thermopolis'...</td>\n",
       "      <td>[{'credit_id': '52fe43fe9251416c7502563d', 'de...</td>\n",
       "      <td>95149435</td>\n",
       "    </tr>\n",
       "    <tr>\n",
       "      <td>2</td>\n",
       "      <td>3</td>\n",
       "      <td>NaN</td>\n",
       "      <td>3300000</td>\n",
       "      <td>[{'id': 18, 'name': 'Drama'}]</td>\n",
       "      <td>http://sonyclassics.com/whiplash/</td>\n",
       "      <td>tt2582802</td>\n",
       "      <td>en</td>\n",
       "      <td>Whiplash</td>\n",
       "      <td>Under the direction of a ruthless instructor, ...</td>\n",
       "      <td>64.299990</td>\n",
       "      <td>...</td>\n",
       "      <td>2014-10-10</td>\n",
       "      <td>105.0</td>\n",
       "      <td>[{'iso_639_1': 'en', 'name': 'English'}]</td>\n",
       "      <td>Released</td>\n",
       "      <td>The road to greatness can take you to the edge.</td>\n",
       "      <td>Whiplash</td>\n",
       "      <td>[{'id': 1416, 'name': 'jazz'}, {'id': 1523, 'n...</td>\n",
       "      <td>[{'cast_id': 5, 'character': 'Andrew Neimann',...</td>\n",
       "      <td>[{'credit_id': '54d5356ec3a3683ba0000039', 'de...</td>\n",
       "      <td>13092000</td>\n",
       "    </tr>\n",
       "    <tr>\n",
       "      <td>3</td>\n",
       "      <td>4</td>\n",
       "      <td>NaN</td>\n",
       "      <td>1200000</td>\n",
       "      <td>[{'id': 53, 'name': 'Thriller'}, {'id': 18, 'n...</td>\n",
       "      <td>http://kahaanithefilm.com/</td>\n",
       "      <td>tt1821480</td>\n",
       "      <td>hi</td>\n",
       "      <td>Kahaani</td>\n",
       "      <td>Vidya Bagchi (Vidya Balan) arrives in Kolkata ...</td>\n",
       "      <td>3.174936</td>\n",
       "      <td>...</td>\n",
       "      <td>2012-03-09</td>\n",
       "      <td>122.0</td>\n",
       "      <td>[{'iso_639_1': 'en', 'name': 'English'}, {'iso...</td>\n",
       "      <td>Released</td>\n",
       "      <td>NaN</td>\n",
       "      <td>Kahaani</td>\n",
       "      <td>[{'id': 10092, 'name': 'mystery'}, {'id': 1054...</td>\n",
       "      <td>[{'cast_id': 1, 'character': 'Vidya Bagchi', '...</td>\n",
       "      <td>[{'credit_id': '52fe48779251416c9108d6eb', 'de...</td>\n",
       "      <td>16000000</td>\n",
       "    </tr>\n",
       "    <tr>\n",
       "      <td>4</td>\n",
       "      <td>5</td>\n",
       "      <td>NaN</td>\n",
       "      <td>0</td>\n",
       "      <td>[{'id': 28, 'name': 'Action'}, {'id': 53, 'nam...</td>\n",
       "      <td>NaN</td>\n",
       "      <td>tt1380152</td>\n",
       "      <td>ko</td>\n",
       "      <td>마린보이</td>\n",
       "      <td>Marine Boy is the story of a former national s...</td>\n",
       "      <td>1.148070</td>\n",
       "      <td>...</td>\n",
       "      <td>2009-02-05</td>\n",
       "      <td>118.0</td>\n",
       "      <td>[{'iso_639_1': 'ko', 'name': '한국어/조선말'}]</td>\n",
       "      <td>Released</td>\n",
       "      <td>NaN</td>\n",
       "      <td>Marine Boy</td>\n",
       "      <td>NaN</td>\n",
       "      <td>[{'cast_id': 3, 'character': 'Chun-soo', 'cred...</td>\n",
       "      <td>[{'credit_id': '52fe464b9251416c75073b43', 'de...</td>\n",
       "      <td>3923970</td>\n",
       "    </tr>\n",
       "  </tbody>\n",
       "</table>\n",
       "<p>5 rows × 23 columns</p>\n",
       "</div>"
      ],
      "text/plain": [
       "   id                              belongs_to_collection    budget  \\\n",
       "0   1  [{'id': 313576, 'name': 'Hot Tub Time Machine ...  14000000   \n",
       "1   2  [{'id': 107674, 'name': 'The Princess Diaries ...  40000000   \n",
       "2   3                                                NaN   3300000   \n",
       "3   4                                                NaN   1200000   \n",
       "4   5                                                NaN         0   \n",
       "\n",
       "                                              genres  \\\n",
       "0                     [{'id': 35, 'name': 'Comedy'}]   \n",
       "1  [{'id': 35, 'name': 'Comedy'}, {'id': 18, 'nam...   \n",
       "2                      [{'id': 18, 'name': 'Drama'}]   \n",
       "3  [{'id': 53, 'name': 'Thriller'}, {'id': 18, 'n...   \n",
       "4  [{'id': 28, 'name': 'Action'}, {'id': 53, 'nam...   \n",
       "\n",
       "                            homepage    imdb_id original_language  \\\n",
       "0                                NaN  tt2637294                en   \n",
       "1                                NaN  tt0368933                en   \n",
       "2  http://sonyclassics.com/whiplash/  tt2582802                en   \n",
       "3         http://kahaanithefilm.com/  tt1821480                hi   \n",
       "4                                NaN  tt1380152                ko   \n",
       "\n",
       "                             original_title  \\\n",
       "0                    Hot Tub Time Machine 2   \n",
       "1  The Princess Diaries 2: Royal Engagement   \n",
       "2                                  Whiplash   \n",
       "3                                   Kahaani   \n",
       "4                                      마린보이   \n",
       "\n",
       "                                            overview  popularity  ...  \\\n",
       "0  When Lou, who has become the \"father of the In...    6.575393  ...   \n",
       "1  Mia Thermopolis is now a college graduate and ...    8.248895  ...   \n",
       "2  Under the direction of a ruthless instructor, ...   64.299990  ...   \n",
       "3  Vidya Bagchi (Vidya Balan) arrives in Kolkata ...    3.174936  ...   \n",
       "4  Marine Boy is the story of a former national s...    1.148070  ...   \n",
       "\n",
       "  release_date runtime                                   spoken_languages  \\\n",
       "0   2015-02-20    93.0           [{'iso_639_1': 'en', 'name': 'English'}]   \n",
       "1   2004-08-06   113.0           [{'iso_639_1': 'en', 'name': 'English'}]   \n",
       "2   2014-10-10   105.0           [{'iso_639_1': 'en', 'name': 'English'}]   \n",
       "3   2012-03-09   122.0  [{'iso_639_1': 'en', 'name': 'English'}, {'iso...   \n",
       "4   2009-02-05   118.0           [{'iso_639_1': 'ko', 'name': '한국어/조선말'}]   \n",
       "\n",
       "     status                                            tagline  \\\n",
       "0  Released  The Laws of Space and Time are About to be Vio...   \n",
       "1  Released  It can take a lifetime to find true love; she'...   \n",
       "2  Released    The road to greatness can take you to the edge.   \n",
       "3  Released                                                NaN   \n",
       "4  Released                                                NaN   \n",
       "\n",
       "                                      title  \\\n",
       "0                    Hot Tub Time Machine 2   \n",
       "1  The Princess Diaries 2: Royal Engagement   \n",
       "2                                  Whiplash   \n",
       "3                                   Kahaani   \n",
       "4                                Marine Boy   \n",
       "\n",
       "                                            Keywords  \\\n",
       "0  [{'id': 4379, 'name': 'time travel'}, {'id': 9...   \n",
       "1  [{'id': 2505, 'name': 'coronation'}, {'id': 42...   \n",
       "2  [{'id': 1416, 'name': 'jazz'}, {'id': 1523, 'n...   \n",
       "3  [{'id': 10092, 'name': 'mystery'}, {'id': 1054...   \n",
       "4                                                NaN   \n",
       "\n",
       "                                                cast  \\\n",
       "0  [{'cast_id': 4, 'character': 'Lou', 'credit_id...   \n",
       "1  [{'cast_id': 1, 'character': 'Mia Thermopolis'...   \n",
       "2  [{'cast_id': 5, 'character': 'Andrew Neimann',...   \n",
       "3  [{'cast_id': 1, 'character': 'Vidya Bagchi', '...   \n",
       "4  [{'cast_id': 3, 'character': 'Chun-soo', 'cred...   \n",
       "\n",
       "                                                crew   revenue  \n",
       "0  [{'credit_id': '59ac067c92514107af02c8c8', 'de...  12314651  \n",
       "1  [{'credit_id': '52fe43fe9251416c7502563d', 'de...  95149435  \n",
       "2  [{'credit_id': '54d5356ec3a3683ba0000039', 'de...  13092000  \n",
       "3  [{'credit_id': '52fe48779251416c9108d6eb', 'de...  16000000  \n",
       "4  [{'credit_id': '52fe464b9251416c75073b43', 'de...   3923970  \n",
       "\n",
       "[5 rows x 23 columns]"
      ]
     },
     "execution_count": 7,
     "metadata": {},
     "output_type": "execute_result"
    }
   ],
   "source": [
    "train_data.head()"
   ]
  },
  {
   "cell_type": "markdown",
   "metadata": {},
   "source": [
    "Some of the columns have dictionaries as entries, most often the reason for that is that they represent both the id and the name of the element "
   ]
  },
  {
   "cell_type": "markdown",
   "metadata": {},
   "source": [
    "Let's take a look at the columns:"
   ]
  },
  {
   "cell_type": "code",
   "execution_count": 8,
   "metadata": {},
   "outputs": [
    {
     "data": {
      "text/plain": [
       "id                          0\n",
       "belongs_to_collection    2396\n",
       "budget                      0\n",
       "genres                      7\n",
       "homepage                 2054\n",
       "imdb_id                     0\n",
       "original_language           0\n",
       "original_title              0\n",
       "overview                    8\n",
       "popularity                  0\n",
       "poster_path                 1\n",
       "production_companies      156\n",
       "production_countries       55\n",
       "release_date                0\n",
       "runtime                     2\n",
       "spoken_languages           20\n",
       "status                      0\n",
       "tagline                   597\n",
       "title                       0\n",
       "Keywords                  276\n",
       "cast                       13\n",
       "crew                       16\n",
       "revenue                     0\n",
       "dtype: int64"
      ]
     },
     "execution_count": 8,
     "metadata": {},
     "output_type": "execute_result"
    }
   ],
   "source": [
    "train_data.isnull().sum(axis = 0) #Nb of NA per column"
   ]
  },
  {
   "cell_type": "code",
   "execution_count": 9,
   "metadata": {},
   "outputs": [
    {
     "data": {
      "text/plain": [
       "id                       0.000000\n",
       "belongs_to_collection    0.798667\n",
       "budget                   0.000000\n",
       "genres                   0.002333\n",
       "homepage                 0.684667\n",
       "imdb_id                  0.000000\n",
       "original_language        0.000000\n",
       "original_title           0.000000\n",
       "overview                 0.002667\n",
       "popularity               0.000000\n",
       "poster_path              0.000333\n",
       "production_companies     0.052000\n",
       "production_countries     0.018333\n",
       "release_date             0.000000\n",
       "runtime                  0.000667\n",
       "spoken_languages         0.006667\n",
       "status                   0.000000\n",
       "tagline                  0.199000\n",
       "title                    0.000000\n",
       "Keywords                 0.092000\n",
       "cast                     0.004333\n",
       "crew                     0.005333\n",
       "revenue                  0.000000\n",
       "dtype: float64"
      ]
     },
     "execution_count": 9,
     "metadata": {},
     "output_type": "execute_result"
    }
   ],
   "source": [
    "train_data.isnull().sum(axis = 0)/train_data.shape[0] #Percentage of NA per column"
   ]
  },
  {
   "cell_type": "markdown",
   "metadata": {},
   "source": [
    "# DATA CLEANING, FEATURE GEN, VIZ AND INITIAL ANALYSIS"
   ]
  },
  {
   "cell_type": "markdown",
   "metadata": {},
   "source": [
    "### IDs"
   ]
  },
  {
   "cell_type": "code",
   "execution_count": 10,
   "metadata": {},
   "outputs": [
    {
     "data": {
      "text/plain": [
       "0          1\n",
       "1          2\n",
       "2          3\n",
       "3          4\n",
       "4          5\n",
       "        ... \n",
       "2995    2996\n",
       "2996    2997\n",
       "2997    2998\n",
       "2998    2999\n",
       "2999    3000\n",
       "Name: id, Length: 3000, dtype: int64"
      ]
     },
     "execution_count": 10,
     "metadata": {},
     "output_type": "execute_result"
    }
   ],
   "source": [
    "train_data[cols[0]] #ids, we can use the index instead"
   ]
  },
  {
   "cell_type": "code",
   "execution_count": 11,
   "metadata": {},
   "outputs": [],
   "source": [
    "train_data = train_data.drop(cols[0], axis = 1)"
   ]
  },
  {
   "cell_type": "markdown",
   "metadata": {},
   "source": [
    "### Collection"
   ]
  },
  {
   "cell_type": "code",
   "execution_count": 12,
   "metadata": {},
   "outputs": [
    {
     "data": {
      "text/plain": [
       "0       [{'id': 313576, 'name': 'Hot Tub Time Machine ...\n",
       "1       [{'id': 107674, 'name': 'The Princess Diaries ...\n",
       "2                                                     NaN\n",
       "3                                                     NaN\n",
       "4                                                     NaN\n",
       "                              ...                        \n",
       "2995                                                  NaN\n",
       "2996                                                  NaN\n",
       "2997                                                  NaN\n",
       "2998                                                  NaN\n",
       "2999                                                  NaN\n",
       "Name: belongs_to_collection, Length: 3000, dtype: object"
      ]
     },
     "execution_count": 12,
     "metadata": {},
     "output_type": "execute_result"
    }
   ],
   "source": [
    "train_data[cols[1]] #Collection, a lot of NA, and relevant info is probably only that the movie belongs to a collection"
   ]
  },
  {
   "cell_type": "code",
   "execution_count": 13,
   "metadata": {},
   "outputs": [],
   "source": [
    "collection_feature = train_data[cols[1]].isnull().astype('int')"
   ]
  },
  {
   "cell_type": "code",
   "execution_count": 14,
   "metadata": {},
   "outputs": [],
   "source": [
    "train_data[cols[1]] = collection_feature"
   ]
  },
  {
   "cell_type": "markdown",
   "metadata": {},
   "source": [
    "### Budget"
   ]
  },
  {
   "cell_type": "code",
   "execution_count": 15,
   "metadata": {},
   "outputs": [
    {
     "data": {
      "text/plain": [
       "0       14000000\n",
       "1       40000000\n",
       "2        3300000\n",
       "3        1200000\n",
       "4              0\n",
       "          ...   \n",
       "2995           0\n",
       "2996           0\n",
       "2997    65000000\n",
       "2998    42000000\n",
       "2999    35000000\n",
       "Name: budget, Length: 3000, dtype: int64"
      ]
     },
     "execution_count": 15,
     "metadata": {},
     "output_type": "execute_result"
    }
   ],
   "source": [
    "train_data[cols[2]] #Budget, definitely interesting"
   ]
  },
  {
   "cell_type": "code",
   "execution_count": 16,
   "metadata": {},
   "outputs": [],
   "source": [
    "train_data[cols[2]] = train_data[cols[2]]/train_data[cols[2]].std()"
   ]
  },
  {
   "cell_type": "code",
   "execution_count": 19,
   "metadata": {},
   "outputs": [
    {
     "data": {
      "text/plain": [
       "Text(0.5, 1.0, 'Scatter Plot of Revenue vs Budget')"
      ]
     },
     "execution_count": 19,
     "metadata": {},
     "output_type": "execute_result"
    },
    {
     "data": {
      "image/png": "[encoded data removed]",
      "text/plain": [
       "<Figure size 864x576 with 1 Axes>"
      ]
     },
     "metadata": {
      "needs_background": "light"
     },
     "output_type": "display_data"
    }
   ],
   "source": [
    "train_data.plot.scatter(x = cols[2], y= cols[-1], s = 2, figsize = (12, 8))\n",
    "plt.xlabel(\"Budget\")\n",
    "plt.ylabel(\"Revenue\")\n",
    "plt.title(\"Scatter Plot of Revenue vs Budget\")"
   ]
  },
  {
   "cell_type": "markdown",
   "metadata": {},
   "source": [
    "### Genres"
   ]
  },
  {
   "cell_type": "code",
   "execution_count": 20,
   "metadata": {},
   "outputs": [
    {
     "data": {
      "text/plain": [
       "0                          [{'id': 35, 'name': 'Comedy'}]\n",
       "1       [{'id': 35, 'name': 'Comedy'}, {'id': 18, 'nam...\n",
       "2                           [{'id': 18, 'name': 'Drama'}]\n",
       "3       [{'id': 53, 'name': 'Thriller'}, {'id': 18, 'n...\n",
       "4       [{'id': 28, 'name': 'Action'}, {'id': 53, 'nam...\n",
       "                              ...                        \n",
       "2995    [{'id': 35, 'name': 'Comedy'}, {'id': 10749, '...\n",
       "2996    [{'id': 18, 'name': 'Drama'}, {'id': 10402, 'n...\n",
       "2997    [{'id': 80, 'name': 'Crime'}, {'id': 28, 'name...\n",
       "2998    [{'id': 35, 'name': 'Comedy'}, {'id': 10749, '...\n",
       "2999    [{'id': 53, 'name': 'Thriller'}, {'id': 28, 'n...\n",
       "Name: genres, Length: 3000, dtype: object"
      ]
     },
     "execution_count": 20,
     "metadata": {},
     "output_type": "execute_result"
    }
   ],
   "source": [
    "train_data[cols[3]] #genres, notice that read as strings so fix that, then one hot encode it since keeping integers might confuse the models we're using"
   ]
  },
  {
   "cell_type": "code",
   "execution_count": 21,
   "metadata": {},
   "outputs": [],
   "source": [
    "train_data[cols[3]] = train_data[cols[3]].fillna(\"[]\")"
   ]
  },
  {
   "cell_type": "code",
   "execution_count": 22,
   "metadata": {},
   "outputs": [],
   "source": [
    "train_data[cols[3]] = [literal_eval(i) for i in train_data[cols[3]]]"
   ]
  },
  {
   "cell_type": "code",
   "execution_count": 23,
   "metadata": {},
   "outputs": [],
   "source": [
    "nb_genres_per_film = train_data['genres'].apply(lambda x: len(x) if x != {} else 0)"
   ]
  },
  {
   "cell_type": "code",
   "execution_count": null,
   "metadata": {},
   "outputs": [],
   "source": []
  },
  {
   "cell_type": "code",
   "execution_count": 24,
   "metadata": {},
   "outputs": [
    {
     "data": {
      "text/plain": [
       "Text(0.5, 1.0, 'Revenue as a Function of Number of Genres per Film')"
      ]
     },
     "execution_count": 24,
     "metadata": {},
     "output_type": "execute_result"
    },
    {
     "data": {
      "image/png": "[encoded data removed]",
      "text/plain": [
       "<Figure size 1296x864 with 1 Axes>"
      ]
     },
     "metadata": {
      "needs_background": "light"
     },
     "output_type": "display_data"
    }
   ],
   "source": [
    "plt.figure(figsize = (18, 12))\n",
    "plt.scatter(x = nb_genres_per_film, y = train_data[\"revenue\"])#interesting \n",
    "plt.xlabel(\"Number of Genres per Film\")\n",
    "plt.ylabel(\"Revenue\")\n",
    "plt.title(\"Revenue as a Function of Number of Genres per Film\")"
   ]
  },
  {
   "cell_type": "code",
   "execution_count": 25,
   "metadata": {},
   "outputs": [],
   "source": [
    "list_of_genres = list(train_data['genres'].apply(lambda x: [i['name'] for i in x] ).values) #per movie"
   ]
  },
  {
   "cell_type": "code",
   "execution_count": 26,
   "metadata": {},
   "outputs": [],
   "source": [
    "corpus_genres = ' '.join([i for j in list_of_genres for i in j])"
   ]
  },
  {
   "cell_type": "code",
   "execution_count": 27,
   "metadata": {},
   "outputs": [
    {
     "data": {
      "image/png": "[encoded data removed]",
      "text/plain": [
       "<Figure size 432x288 with 1 Axes>"
      ]
     },
     "metadata": {
      "needs_background": "light"
     },
     "output_type": "display_data"
    }
   ],
   "source": [
    "#Viz top genres here\n",
    "\n",
    "wordcloud = WordCloud(max_font_size=None, background_color='white', collocations=False,\n",
    "                      width=1200, height=1000).generate(corpus_genres)\n",
    "plt.imshow(wordcloud)\n",
    "plt.title('Top genres')\n",
    "plt.show()"
   ]
  },
  {
   "cell_type": "markdown",
   "metadata": {},
   "source": [
    "vectorizer = TfidfVectorizer()\n",
    "tfidf1 = vectorizer.fit_transform(flat_list)\n",
    "vectorizer.get_feature_names()"
   ]
  },
  {
   "cell_type": "code",
   "execution_count": 28,
   "metadata": {},
   "outputs": [],
   "source": [
    "flat_list = [item for sublist in list_of_genres for item in sublist]"
   ]
  },
  {
   "cell_type": "code",
   "execution_count": 29,
   "metadata": {},
   "outputs": [
    {
     "data": {
      "text/plain": [
       "[('Drama', 1531),\n",
       " ('Comedy', 1028),\n",
       " ('Thriller', 789),\n",
       " ('Action', 741),\n",
       " ('Romance', 571),\n",
       " ('Crime', 469),\n",
       " ('Adventure', 439),\n",
       " ('Horror', 301),\n",
       " ('Science Fiction', 290),\n",
       " ('Family', 260),\n",
       " ('Fantasy', 232),\n",
       " ('Mystery', 225),\n",
       " ('Animation', 141),\n",
       " ('History', 132),\n",
       " ('Music', 100)]"
      ]
     },
     "execution_count": 29,
     "metadata": {},
     "output_type": "execute_result"
    }
   ],
   "source": [
    "Counter(flat_list).most_common(15)"
   ]
  },
  {
   "cell_type": "code",
   "execution_count": 30,
   "metadata": {},
   "outputs": [],
   "source": [
    "genres =[i[0] for i in Counter(flat_list).most_common()]"
   ]
  },
  {
   "cell_type": "code",
   "execution_count": 31,
   "metadata": {},
   "outputs": [],
   "source": [
    "train_data[\"genres\"] = list_of_genres #Replacing the dictionaries by a list of names of the genres"
   ]
  },
  {
   "cell_type": "code",
   "execution_count": 33,
   "metadata": {},
   "outputs": [],
   "source": [
    "#We now have binary columns representing the presence of genre for each movie\n",
    "genres_cols = []\n",
    "for g in genres:\n",
    "    train_data[\"gr_\" + g]= train_data[\"genres\"].apply(lambda x:1 if g in x else 0)\n",
    "    genres_cols.append(\"gr_\" + g)"
   ]
  },
  {
   "cell_type": "code",
   "execution_count": 34,
   "metadata": {},
   "outputs": [],
   "source": [
    "xx1 = int(np.floor(len(genres_cols)/3))"
   ]
  },
  {
   "cell_type": "code",
   "execution_count": 35,
   "metadata": {},
   "outputs": [],
   "source": [
    "train_data[\"th1_genre\"] = train_data[genres_cols[:xx1]].sum(axis = 1)\n",
    "train_data[\"th2_genre\"] = train_data[genres_cols[xx1:2*xx1]].sum(axis = 1)\n",
    "train_data[\"th3_genre\"] = train_data[genres_cols[2*xx1:]].sum(axis = 1)"
   ]
  },
  {
   "cell_type": "code",
   "execution_count": 36,
   "metadata": {},
   "outputs": [],
   "source": [
    "train_data = train_data.drop(\"genres\", axis = 1) #We drop the genres column\n",
    "train_data = train_data.drop(genres_cols, axis = 1)"
   ]
  },
  {
   "cell_type": "code",
   "execution_count": 37,
   "metadata": {},
   "outputs": [
    {
     "data": {
      "text/plain": [
       "Text(0.5, 1.0, 'Revenue as a Function of Number of Genres per Film')"
      ]
     },
     "execution_count": 37,
     "metadata": {},
     "output_type": "execute_result"
    },
    {
     "data": {
      "image/png": "[encoded data removed]",
      "text/plain": [
       "<Figure size 1296x864 with 1 Axes>"
      ]
     },
     "metadata": {
      "needs_background": "light"
     },
     "output_type": "display_data"
    }
   ],
   "source": [
    "plt.figure(figsize = (18, 12))\n",
    "plt.scatter(x = train_data[\"th1_genre\"], y = train_data[\"revenue\"])#interesting \n",
    "plt.xlabel(\"Number of Genres per Film\")\n",
    "plt.ylabel(\"Revenue\")\n",
    "plt.title(\"Revenue as a Function of Number of Genres per Film\")"
   ]
  },
  {
   "cell_type": "code",
   "execution_count": 38,
   "metadata": {},
   "outputs": [
    {
     "data": {
      "text/plain": [
       "Text(0.5, 1.0, 'Revenue as a Function of Number of Genres per Film')"
      ]
     },
     "execution_count": 38,
     "metadata": {},
     "output_type": "execute_result"
    },
    {
     "data": {
      "image/png": "[encoded data removed]",
      "text/plain": [
       "<Figure size 1296x864 with 1 Axes>"
      ]
     },
     "metadata": {
      "needs_background": "light"
     },
     "output_type": "display_data"
    }
   ],
   "source": [
    "plt.figure(figsize = (18, 12))\n",
    "plt.scatter(x = train_data[\"th2_genre\"], y = train_data[\"revenue\"])#interesting \n",
    "plt.xlabel(\"Number of Genres per Film\")\n",
    "plt.ylabel(\"Revenue\")\n",
    "plt.title(\"Revenue as a Function of Number of Genres per Film\")"
   ]
  },
  {
   "cell_type": "markdown",
   "metadata": {},
   "source": [
    "### Homepage"
   ]
  },
  {
   "cell_type": "code",
   "execution_count": null,
   "metadata": {},
   "outputs": [],
   "source": [
    "train_data[cols[4]] = (train_data[cols[4]].isnull() == 0)/1 # Homepage, If they have a homepage or not"
   ]
  },
  {
   "cell_type": "markdown",
   "metadata": {},
   "source": [
    "#### IMDB ID"
   ]
  },
  {
   "cell_type": "code",
   "execution_count": null,
   "metadata": {},
   "outputs": [],
   "source": [
    "train_data[cols[5]] #imdbid, drop"
   ]
  },
  {
   "cell_type": "code",
   "execution_count": null,
   "metadata": {},
   "outputs": [],
   "source": [
    "train_data = train_data.drop(cols[5], axis = 1)"
   ]
  },
  {
   "cell_type": "markdown",
   "metadata": {},
   "source": [
    "### OG Language"
   ]
  },
  {
   "cell_type": "code",
   "execution_count": null,
   "metadata": {},
   "outputs": [],
   "source": [
    "train_data[cols[6]] #og language, we drop"
   ]
  },
  {
   "cell_type": "code",
   "execution_count": null,
   "metadata": {},
   "outputs": [],
   "source": [
    "og_langs = [i[0] for i in Counter(train_data[cols[6]].tolist()).most_common()]\n"
   ]
  },
  {
   "cell_type": "code",
   "execution_count": null,
   "metadata": {},
   "outputs": [],
   "source": [
    "#We now have binary columns representing the og lang\n",
    "og_lang_cols = []\n",
    "for g in og_langs:\n",
    "    train_data[\"oglang\" + g]= train_data[cols[6]].apply(lambda x:1 if x in g else 0)\n",
    "    og_lang_cols.append(\"oglang\" + g)"
   ]
  },
  {
   "cell_type": "code",
   "execution_count": null,
   "metadata": {},
   "outputs": [],
   "source": [
    "train_data[\"og_lang_top5sum\"] = train_data[og_lang_cols[:5]].sum(axis = 1)\n",
    "train_data[\"og_lang_othersum\"] = train_data[og_lang_cols[5:]].sum(axis = 1)\n",
    "\n",
    "train_data = train_data.drop(cols[6], axis = 1)\n",
    "train_data = train_data.drop(og_lang_cols, axis = 1)"
   ]
  },
  {
   "cell_type": "code",
   "execution_count": null,
   "metadata": {},
   "outputs": [],
   "source": []
  },
  {
   "cell_type": "markdown",
   "metadata": {},
   "source": [
    "### OG Title"
   ]
  },
  {
   "cell_type": "code",
   "execution_count": null,
   "metadata": {},
   "outputs": [],
   "source": [
    "train_data[cols[7]] #og title, drop"
   ]
  },
  {
   "cell_type": "code",
   "execution_count": null,
   "metadata": {},
   "outputs": [],
   "source": [
    "train_data = train_data.drop(cols[7], axis = 1)"
   ]
  },
  {
   "cell_type": "markdown",
   "metadata": {},
   "source": [
    "### Movie Description "
   ]
  },
  {
   "cell_type": "code",
   "execution_count": null,
   "metadata": {},
   "outputs": [],
   "source": [
    "train_data[cols[8]] #Desctiption,  drop "
   ]
  },
  {
   "cell_type": "code",
   "execution_count": null,
   "metadata": {},
   "outputs": [],
   "source": [
    "vectorizer = TfidfVectorizer(\n",
    "            analyzer='word', lowercase = True, \n",
    "            ngram_range=(1, 1),\n",
    "            min_df=5, max_df = 0.5, stop_words = \"english\")\n",
    "\n",
    "vectorized_txt = vectorizer.fit_transform(train_data['overview'].fillna('').to_list())\n",
    "\n",
    "\n",
    "#Looked into quick NLP but definitely not enough data for that and easier to focus on something else. Too complicated. "
   ]
  },
  {
   "cell_type": "code",
   "execution_count": null,
   "metadata": {},
   "outputs": [],
   "source": [
    "vectorized_txt.todense().shape"
   ]
  },
  {
   "cell_type": "code",
   "execution_count": null,
   "metadata": {},
   "outputs": [],
   "source": [
    "pca = PCA(n_components = 0.3)\n",
    "z = pca.fit_transform(vectorized_txt.todense())"
   ]
  },
  {
   "cell_type": "code",
   "execution_count": null,
   "metadata": {},
   "outputs": [],
   "source": [
    "z.shape"
   ]
  },
  {
   "cell_type": "code",
   "execution_count": null,
   "metadata": {},
   "outputs": [],
   "source": [
    "train_data = pd.concat([train_data, pd.DataFrame(z)], axis = 1)"
   ]
  },
  {
   "cell_type": "code",
   "execution_count": null,
   "metadata": {},
   "outputs": [],
   "source": [
    "train_data = train_data.drop(cols[8], axis = 1) "
   ]
  },
  {
   "cell_type": "markdown",
   "metadata": {},
   "source": [
    "### POP Score"
   ]
  },
  {
   "cell_type": "code",
   "execution_count": null,
   "metadata": {},
   "outputs": [],
   "source": [
    "train_data[cols[9]] #popularity score, but no real interpretation of what it means, just leave as is"
   ]
  },
  {
   "cell_type": "markdown",
   "metadata": {},
   "source": [
    "### Poster link"
   ]
  },
  {
   "cell_type": "code",
   "execution_count": null,
   "metadata": {},
   "outputs": [],
   "source": [
    "train_data[cols[10]] #drop"
   ]
  },
  {
   "cell_type": "code",
   "execution_count": null,
   "metadata": {},
   "outputs": [],
   "source": [
    "train_data[cols[10]].isnull().sum()"
   ]
  },
  {
   "cell_type": "code",
   "execution_count": null,
   "metadata": {},
   "outputs": [],
   "source": [
    "train_data = train_data.drop(cols[10], axis = 1)"
   ]
  },
  {
   "cell_type": "markdown",
   "metadata": {},
   "source": [
    "### Prod Companies"
   ]
  },
  {
   "cell_type": "code",
   "execution_count": null,
   "metadata": {},
   "outputs": [],
   "source": [
    "train_data[cols[11]] "
   ]
  },
  {
   "cell_type": "code",
   "execution_count": null,
   "metadata": {},
   "outputs": [],
   "source": [
    "train_data[cols[11]] = train_data[cols[11]].fillna(\"[]\")"
   ]
  },
  {
   "cell_type": "code",
   "execution_count": null,
   "metadata": {},
   "outputs": [],
   "source": [
    "train_data[cols[11]] = [literal_eval(i) for i in train_data[cols[11]]]"
   ]
  },
  {
   "cell_type": "code",
   "execution_count": null,
   "metadata": {},
   "outputs": [],
   "source": [
    "list_of_prods_comps = list(train_data[cols[11]].apply(lambda x: [i['name'] for i in x] ).values) #per movie"
   ]
  },
  {
   "cell_type": "code",
   "execution_count": null,
   "metadata": {},
   "outputs": [],
   "source": [
    "flat_list_prod_comps = [item for sublist in list_of_prods_comps for item in sublist]"
   ]
  },
  {
   "cell_type": "code",
   "execution_count": null,
   "metadata": {},
   "outputs": [],
   "source": [
    "prod_comps = [i[0] for i in Counter(flat_list_prod_comps).most_common()]"
   ]
  },
  {
   "cell_type": "code",
   "execution_count": null,
   "metadata": {},
   "outputs": [],
   "source": [
    "train_data[cols[11]] = list_of_prods_comps #Replacing the dictionaries by a list of names of the prod companies"
   ]
  },
  {
   "cell_type": "code",
   "execution_count": null,
   "metadata": {},
   "outputs": [],
   "source": [
    "#We now have binary columns representing the presence of genre for each movie\n",
    "prod_comps_colnames = []\n",
    "for g in prod_comps:\n",
    "    train_data[\"prod_comp_\" + g]= train_data[cols[11]].apply(lambda x:1 if g in x else 0)\n",
    "    prod_comps_colnames.append(\"prod_comp_\" + g)"
   ]
  },
  {
   "cell_type": "code",
   "execution_count": null,
   "metadata": {},
   "outputs": [],
   "source": [
    "train_data[prod_comps_colnames].sum(axis = 1)"
   ]
  },
  {
   "cell_type": "code",
   "execution_count": null,
   "metadata": {},
   "outputs": [],
   "source": [
    "train_data[\"prod_comps_sumothers\"] = train_data[prod_comps_colnames[10:]].sum(axis = 1)\n",
    "train_data[\"prod_comps_sumtop10\"] = train_data[prod_comps_colnames[:10]].sum(axis = 1)"
   ]
  },
  {
   "cell_type": "code",
   "execution_count": null,
   "metadata": {},
   "outputs": [],
   "source": [
    "train_data = train_data.drop(cols[11], axis = 1)\n",
    "train_data = train_data.drop(prod_comps_colnames, axis = 1)"
   ]
  },
  {
   "cell_type": "code",
   "execution_count": null,
   "metadata": {},
   "outputs": [],
   "source": []
  },
  {
   "cell_type": "markdown",
   "metadata": {},
   "source": [
    "### Prod Countries"
   ]
  },
  {
   "cell_type": "code",
   "execution_count": null,
   "metadata": {},
   "outputs": [],
   "source": [
    "train_data[cols[12]] "
   ]
  },
  {
   "cell_type": "code",
   "execution_count": null,
   "metadata": {},
   "outputs": [],
   "source": [
    "train_data[cols[12]] = train_data[cols[12]].fillna(\"[]\")"
   ]
  },
  {
   "cell_type": "code",
   "execution_count": null,
   "metadata": {},
   "outputs": [],
   "source": [
    "train_data[cols[12]] = [literal_eval(i) for i in train_data[cols[12]]]"
   ]
  },
  {
   "cell_type": "code",
   "execution_count": null,
   "metadata": {},
   "outputs": [],
   "source": [
    "train_data[cols[12]].shape"
   ]
  },
  {
   "cell_type": "code",
   "execution_count": null,
   "metadata": {},
   "outputs": [],
   "source": [
    "list_of_prods_countries = list(train_data[cols[12]].apply(lambda x: [i['name'] for i in x] ).values) #per movie"
   ]
  },
  {
   "cell_type": "code",
   "execution_count": null,
   "metadata": {},
   "outputs": [],
   "source": [
    "flat_list_prod_countries = [item for sublist in list_of_prods_countries for item in sublist]"
   ]
  },
  {
   "cell_type": "code",
   "execution_count": null,
   "metadata": {},
   "outputs": [],
   "source": [
    "prod_countries = [i[0] for i in Counter(flat_list_prod_countries).most_common()]"
   ]
  },
  {
   "cell_type": "code",
   "execution_count": null,
   "metadata": {},
   "outputs": [],
   "source": [
    "unique_prod_countries = np.unique(flat_list_prod_countries)"
   ]
  },
  {
   "cell_type": "code",
   "execution_count": null,
   "metadata": {},
   "outputs": [],
   "source": [
    "train_data[cols[12]] = list_of_prods_countries #Replacing the dictionaries by a list of names of the prod companies"
   ]
  },
  {
   "cell_type": "code",
   "execution_count": null,
   "metadata": {},
   "outputs": [],
   "source": [
    "#We now have binary columns representing the presence of genre for each movie\n",
    "prod_countries_cols = []\n",
    "for g in unique_prod_countries:\n",
    "    train_data[\"prod_country\" + g]= train_data[cols[12]].apply(lambda x:1 if g in x else 0)\n",
    "    prod_countries_cols.append(\"prod_country\" + g)"
   ]
  },
  {
   "cell_type": "code",
   "execution_count": null,
   "metadata": {},
   "outputs": [],
   "source": [
    "train_data[\"prod_country_top5sum\"] = train_data[prod_countries_cols[:5]].sum(axis = 1)\n",
    "train_data[\"prod_country_5_20sum\"] = train_data[prod_countries_cols[5:20]].sum(axis = 1)\n",
    "train_data[\"prod_country_otherssum\"] = train_data[prod_countries_cols[20:]].sum(axis = 1)"
   ]
  },
  {
   "cell_type": "code",
   "execution_count": null,
   "metadata": {},
   "outputs": [],
   "source": [
    "train_data = train_data.drop(cols[12], axis = 1)\n",
    "train_data = train_data.drop(prod_countries_cols, axis = 1)"
   ]
  },
  {
   "cell_type": "code",
   "execution_count": null,
   "metadata": {},
   "outputs": [],
   "source": []
  },
  {
   "cell_type": "markdown",
   "metadata": {},
   "source": [
    "### Release Date"
   ]
  },
  {
   "cell_type": "code",
   "execution_count": null,
   "metadata": {},
   "outputs": [],
   "source": [
    "train_data[cols[13]] #Keep as is"
   ]
  },
  {
   "cell_type": "markdown",
   "metadata": {},
   "source": [
    "### Movie Length"
   ]
  },
  {
   "cell_type": "code",
   "execution_count": null,
   "metadata": {},
   "outputs": [],
   "source": [
    "train_data[cols[14]] #Keep as is"
   ]
  },
  {
   "cell_type": "markdown",
   "metadata": {},
   "source": [
    "### Spoken Languages"
   ]
  },
  {
   "cell_type": "code",
   "execution_count": null,
   "metadata": {},
   "outputs": [],
   "source": [
    "train_data[cols[15]] "
   ]
  },
  {
   "cell_type": "code",
   "execution_count": null,
   "metadata": {},
   "outputs": [],
   "source": [
    "train_data[cols[15]] = train_data[cols[15]].fillna(\"[]\")"
   ]
  },
  {
   "cell_type": "code",
   "execution_count": null,
   "metadata": {},
   "outputs": [],
   "source": [
    "train_data[cols[15]] = [literal_eval(i) for i in train_data[cols[15]]]"
   ]
  },
  {
   "cell_type": "code",
   "execution_count": null,
   "metadata": {},
   "outputs": [],
   "source": [
    "train_data[cols[15]].shape"
   ]
  },
  {
   "cell_type": "code",
   "execution_count": null,
   "metadata": {},
   "outputs": [],
   "source": [
    "list_of_spoken_lang = list(train_data[cols[15]].apply(lambda x: [i['name'] for i in x] ).values) #per movie"
   ]
  },
  {
   "cell_type": "code",
   "execution_count": null,
   "metadata": {},
   "outputs": [],
   "source": [
    "flat_list_spoken_lang = [item for sublist in list_of_spoken_lang for item in sublist]"
   ]
  },
  {
   "cell_type": "code",
   "execution_count": null,
   "metadata": {},
   "outputs": [],
   "source": [
    "spoken_langs = [i[0] for i in Counter(flat_list_spoken_lang).most_common()]"
   ]
  },
  {
   "cell_type": "code",
   "execution_count": null,
   "metadata": {},
   "outputs": [],
   "source": [
    "train_data[cols[15]] = list_of_spoken_lang #Replacing the dictionaries by a list of names of the prod companies"
   ]
  },
  {
   "cell_type": "code",
   "execution_count": null,
   "metadata": {},
   "outputs": [],
   "source": [
    "#We now have binary columns representing the presence of genre for each movie\n",
    "spoken_langs_cols = []\n",
    "for g in spoken_langs:\n",
    "    train_data[\"spoken_lang\" + g]= train_data[cols[15]].apply(lambda x:1 if g in x else 0)\n",
    "    spoken_langs_cols.append(\"spoken_lang\" + g)"
   ]
  },
  {
   "cell_type": "code",
   "execution_count": null,
   "metadata": {},
   "outputs": [],
   "source": [
    "train_data[\"spoken_lang_top5sum\"] = train_data[spoken_langs_cols[:5]].sum(axis = 1)\n",
    "train_data[\"spoken_lang_otherssum\"] = train_data[spoken_langs_cols[5:]].sum(axis = 1)"
   ]
  },
  {
   "cell_type": "code",
   "execution_count": null,
   "metadata": {},
   "outputs": [],
   "source": [
    "train_data = train_data.drop(cols[15], axis = 1)\n",
    "train_data = train_data.drop(spoken_langs_cols, axis = 1)"
   ]
  },
  {
   "cell_type": "code",
   "execution_count": null,
   "metadata": {},
   "outputs": [],
   "source": []
  },
  {
   "cell_type": "markdown",
   "metadata": {},
   "source": [
    "### Released / Not Released"
   ]
  },
  {
   "cell_type": "code",
   "execution_count": null,
   "metadata": {},
   "outputs": [],
   "source": [
    "train_data[cols[16]] #Only 3 are not released so not relevant , we drop"
   ]
  },
  {
   "cell_type": "code",
   "execution_count": null,
   "metadata": {},
   "outputs": [],
   "source": [
    "train_data = train_data.drop(cols[16], axis = 1)"
   ]
  },
  {
   "cell_type": "markdown",
   "metadata": {},
   "source": [
    "### Tagline"
   ]
  },
  {
   "cell_type": "code",
   "execution_count": null,
   "metadata": {},
   "outputs": [],
   "source": [
    "train_data[cols[17]] # Drop"
   ]
  },
  {
   "cell_type": "code",
   "execution_count": null,
   "metadata": {},
   "outputs": [],
   "source": [
    "train_data = train_data.drop(cols[17], axis = 1)"
   ]
  },
  {
   "cell_type": "markdown",
   "metadata": {},
   "source": [
    "### Title"
   ]
  },
  {
   "cell_type": "code",
   "execution_count": null,
   "metadata": {},
   "outputs": [],
   "source": [
    "train_data[cols[18]] #Drop"
   ]
  },
  {
   "cell_type": "code",
   "execution_count": null,
   "metadata": {},
   "outputs": [],
   "source": [
    "train_data = train_data.drop(cols[18], axis = 1)"
   ]
  },
  {
   "cell_type": "markdown",
   "metadata": {},
   "source": [
    "### Keywords"
   ]
  },
  {
   "cell_type": "code",
   "execution_count": null,
   "metadata": {},
   "outputs": [],
   "source": [
    "train_data[cols[19]] "
   ]
  },
  {
   "cell_type": "code",
   "execution_count": null,
   "metadata": {},
   "outputs": [],
   "source": [
    "train_data[cols[19]] = train_data[cols[19]].fillna(\"[]\")"
   ]
  },
  {
   "cell_type": "code",
   "execution_count": null,
   "metadata": {},
   "outputs": [],
   "source": [
    "train_data[cols[19]] = [literal_eval(i) for i in train_data[cols[19]]]"
   ]
  },
  {
   "cell_type": "code",
   "execution_count": null,
   "metadata": {},
   "outputs": [],
   "source": [
    "list_of_keywords = list(train_data[cols[19]].apply(lambda x: [i['name'] for i in x] ).values) #per movie"
   ]
  },
  {
   "cell_type": "code",
   "execution_count": null,
   "metadata": {},
   "outputs": [],
   "source": [
    "flat_list_keywords = [item for sublist in list_of_keywords for item in sublist]"
   ]
  },
  {
   "cell_type": "code",
   "execution_count": null,
   "metadata": {},
   "outputs": [],
   "source": [
    "top_30_keywords = [i[0] for i in Counter(flat_list_keywords).most_common(30)]"
   ]
  },
  {
   "cell_type": "code",
   "execution_count": null,
   "metadata": {},
   "outputs": [],
   "source": [
    "Counter(flat_list_keywords).most_common(30)"
   ]
  },
  {
   "cell_type": "code",
   "execution_count": null,
   "metadata": {},
   "outputs": [],
   "source": [
    "train_data[cols[19]] = list_of_keywords #Replacing the dictionaries by a list of names of the prod companies"
   ]
  },
  {
   "cell_type": "code",
   "execution_count": null,
   "metadata": {},
   "outputs": [],
   "source": []
  },
  {
   "cell_type": "code",
   "execution_count": null,
   "metadata": {},
   "outputs": [],
   "source": [
    "#We now have binary columns representing the presence of genre for each movie\n",
    "keywd_cols = []\n",
    "for g in top_30_keywords:\n",
    "    train_data[\"keyword\" + g]= train_data[cols[19]].apply(lambda x:1 if g in x else 0)\n",
    "    keywd_cols.append(\"keyword\" + g)"
   ]
  },
  {
   "cell_type": "code",
   "execution_count": null,
   "metadata": {},
   "outputs": [],
   "source": [
    "train_data[\"sum_top10_keywd\"] = train_data[keywd_cols[:10]].sum(axis = 1)\n",
    "train_data[\"sum_top20_keywd\"] = train_data[keywd_cols[10:20]].sum(axis = 1)\n",
    "train_data[\"sum_top30_keywd\"] = train_data[keywd_cols[20:]].sum(axis = 1)"
   ]
  },
  {
   "cell_type": "code",
   "execution_count": null,
   "metadata": {},
   "outputs": [],
   "source": [
    "train_data = train_data.drop(cols[19], axis = 1)\n",
    "train_data = train_data.drop(keywd_cols, axis = 1)"
   ]
  },
  {
   "cell_type": "code",
   "execution_count": null,
   "metadata": {},
   "outputs": [],
   "source": [
    "pca1 = PCA(n_components = 0.6)\n",
    "z1 = pca1.fit_transform(train_data[keywd_cols])"
   ]
  },
  {
   "cell_type": "code",
   "execution_count": null,
   "metadata": {},
   "outputs": [],
   "source": [
    "z1.shape"
   ]
  },
  {
   "cell_type": "markdown",
   "metadata": {},
   "source": [
    "### Cast"
   ]
  },
  {
   "cell_type": "raw",
   "metadata": {},
   "source": [
    "Note that we use as a proxy of importance of actors, in how many movies they feature\n",
    "We are going to divide the actors into a few different categories in order to estimate their effect on the box office performance"
   ]
  },
  {
   "cell_type": "code",
   "execution_count": null,
   "metadata": {},
   "outputs": [],
   "source": [
    "train_data[cols[20]] "
   ]
  },
  {
   "cell_type": "code",
   "execution_count": null,
   "metadata": {},
   "outputs": [],
   "source": [
    "train_data[cols[20]] = train_data[cols[20]].fillna(\"[]\")"
   ]
  },
  {
   "cell_type": "code",
   "execution_count": null,
   "metadata": {},
   "outputs": [],
   "source": [
    "train_data[cols[20]] = [literal_eval(i) for i in train_data[cols[20]]]"
   ]
  },
  {
   "cell_type": "code",
   "execution_count": null,
   "metadata": {},
   "outputs": [],
   "source": [
    "list_of_cast_names = list(train_data[cols[20]].apply(lambda x: [i['name'] for i in x] ).values) #per movie"
   ]
  },
  {
   "cell_type": "code",
   "execution_count": null,
   "metadata": {},
   "outputs": [],
   "source": [
    "flat_list_cast_names = [item for sublist in list_of_cast_names for item in sublist]"
   ]
  },
  {
   "cell_type": "code",
   "execution_count": null,
   "metadata": {},
   "outputs": [],
   "source": [
    "len(flat_list_cast_names)"
   ]
  },
  {
   "cell_type": "code",
   "execution_count": null,
   "metadata": {},
   "outputs": [],
   "source": [
    "#Counter(flat_list_cast_names).most_common(50)"
   ]
  },
  {
   "cell_type": "code",
   "execution_count": null,
   "metadata": {},
   "outputs": [],
   "source": [
    "cast_names = [i[0] for i in Counter(flat_list_cast_names).most_common(1000)]"
   ]
  },
  {
   "cell_type": "code",
   "execution_count": null,
   "metadata": {},
   "outputs": [],
   "source": [
    "train_data[cols[20]] = list_of_cast_names #Replacing the dictionaries by a list of names "
   ]
  },
  {
   "cell_type": "code",
   "execution_count": null,
   "metadata": {},
   "outputs": [],
   "source": [
    "#We now have binary columns representing the presence of genre for each movie\n",
    "cast_cols = []\n",
    "for g in cast_names:\n",
    "    train_data[\"cast_name_\" + g]= train_data[cols[20]].apply(lambda x:1 if g in x else 0)\n",
    "    cast_cols.append(\"cast_name_\" + g)"
   ]
  },
  {
   "cell_type": "code",
   "execution_count": null,
   "metadata": {},
   "outputs": [],
   "source": [
    "train_data[cast_cols[:5]].sum(axis = 1)"
   ]
  },
  {
   "cell_type": "code",
   "execution_count": null,
   "metadata": {},
   "outputs": [],
   "source": [
    "train_data[\"top_5cast_sum\"] = train_data[cast_cols[:5]].sum(axis = 1)\n",
    "train_data[\"cast_5_20sum\"] = train_data[cast_cols[5:20]].sum(axis = 1)\n",
    "train_data[\"cast_20_50sum\"] = train_data[cast_cols[20:50]].sum(axis = 1)\n",
    "train_data[\"cast_otherssum\"] = train_data[cast_cols[50:]].sum(axis = 1)"
   ]
  },
  {
   "cell_type": "code",
   "execution_count": null,
   "metadata": {},
   "outputs": [],
   "source": [
    "train_data = train_data.drop(cols[20], axis = 1)\n",
    "train_data = train_data.drop(cast_cols, axis = 1)"
   ]
  },
  {
   "cell_type": "markdown",
   "metadata": {},
   "source": [
    "Relationship between budget and revenue:"
   ]
  },
  {
   "cell_type": "code",
   "execution_count": null,
   "metadata": {},
   "outputs": [],
   "source": [
    "plt.scatter(train_data[\"budget\"], np.sqrt(1 + train_data[\"revenue\"]))"
   ]
  },
  {
   "cell_type": "markdown",
   "metadata": {},
   "source": [
    "### Crew"
   ]
  },
  {
   "cell_type": "code",
   "execution_count": null,
   "metadata": {},
   "outputs": [],
   "source": [
    "train_data[cols[21]] \n"
   ]
  },
  {
   "cell_type": "code",
   "execution_count": null,
   "metadata": {},
   "outputs": [],
   "source": [
    "train_data[cols[21]] = train_data[cols[21]].fillna(\"[]\")"
   ]
  },
  {
   "cell_type": "code",
   "execution_count": null,
   "metadata": {},
   "outputs": [],
   "source": [
    "train_data[cols[21]] = [literal_eval(i) for i in train_data[cols[21]]]"
   ]
  },
  {
   "cell_type": "code",
   "execution_count": null,
   "metadata": {},
   "outputs": [],
   "source": [
    "list_of_crew_names = list(train_data[cols[21]].apply(lambda x: [i['name'] for i in x] ).values) #per movie"
   ]
  },
  {
   "cell_type": "code",
   "execution_count": null,
   "metadata": {},
   "outputs": [],
   "source": [
    "flat_list_crew_names = [item for sublist in list_of_crew_names for item in sublist]"
   ]
  },
  {
   "cell_type": "code",
   "execution_count": null,
   "metadata": {},
   "outputs": [],
   "source": [
    "Counter(flat_list_crew_names).most_common(30)"
   ]
  },
  {
   "cell_type": "code",
   "execution_count": null,
   "metadata": {},
   "outputs": [],
   "source": [
    "crew_names = [i[0] for i in Counter(flat_list_crew_names).most_common(1000)]"
   ]
  },
  {
   "cell_type": "code",
   "execution_count": null,
   "metadata": {},
   "outputs": [],
   "source": [
    "train_data[cols[21]] = list_of_crew_names #Replacing the dictionaries by a list of names of the prod companies"
   ]
  },
  {
   "cell_type": "code",
   "execution_count": null,
   "metadata": {},
   "outputs": [],
   "source": [
    "#We now have binary columns representing the presence of genre for each movie\n",
    "crew_names_cols = []\n",
    "for g in crew_names:\n",
    "    train_data[\"crew_name_\" + g]= train_data[cols[21]].apply(lambda x:1 if g in x else 0)\n",
    "    crew_names_cols.append(\"crew_name_\" + g)"
   ]
  },
  {
   "cell_type": "code",
   "execution_count": null,
   "metadata": {},
   "outputs": [],
   "source": [
    "train_data[\"sum_top5_crew\"] = train_data[crew_names_cols[:5]].sum(axis = 1)\n",
    "train_data[\"sum_5_50_crew\"] = train_data[crew_names_cols[5:50]].sum(axis = 1)\n",
    "train_data[\"sum_other_crew\"] = train_data[crew_names_cols[50:]].sum(axis = 1)"
   ]
  },
  {
   "cell_type": "code",
   "execution_count": null,
   "metadata": {},
   "outputs": [],
   "source": [
    "train_data = train_data.drop(cols[21], axis = 1)\n",
    "train_data = train_data.drop(crew_names_cols, axis = 1)"
   ]
  },
  {
   "cell_type": "code",
   "execution_count": null,
   "metadata": {},
   "outputs": [],
   "source": [
    "#Check if NA remaining:"
   ]
  },
  {
   "cell_type": "code",
   "execution_count": null,
   "metadata": {},
   "outputs": [],
   "source": [
    "train_data.loc[:, train_data.isna().any()] #Looks like only runtime has na"
   ]
  },
  {
   "cell_type": "code",
   "execution_count": null,
   "metadata": {},
   "outputs": [],
   "source": [
    "train_data[\"runtime\"] = train_data[\"runtime\"].fillna(value = 0)"
   ]
  },
  {
   "cell_type": "code",
   "execution_count": null,
   "metadata": {},
   "outputs": [],
   "source": [
    "train_data = train_data.drop(\"release_date\", axis = 1)"
   ]
  },
  {
   "cell_type": "markdown",
   "metadata": {},
   "source": [
    "# DATA CLEANING AND FEATURE GEN FUNCTION"
   ]
  },
  {
   "cell_type": "code",
   "execution_count": 1,
   "metadata": {},
   "outputs": [
    {
     "name": "stderr",
     "output_type": "stream",
     "text": [
      "Using TensorFlow backend.\n"
     ]
    }
   ],
   "source": [
    "import pandas as pd\n",
    "import numpy as np \n",
    "import matplotlib.pyplot as plt\n",
    "import sklearn \n",
    "import statsmodels.api as sm\n",
    "from ast import literal_eval\n",
    "import math\n",
    "from collections import Counter, OrderedDict\n",
    "from sklearn import preprocessing\n",
    "from sklearn.model_selection import train_test_split\n",
    "from sklearn.feature_selection import RFE\n",
    "from sklearn.svm import SVR\n",
    "from sklearn.linear_model import LinearRegression\n",
    "import keras.backend as K\n",
    "from keras.models import Model, Input, Sequential\n",
    "from keras.layers import Dense, Softmax, Dropout, Flatten"
   ]
  },
  {
   "cell_type": "code",
   "execution_count": null,
   "metadata": {},
   "outputs": [],
   "source": []
  },
  {
   "cell_type": "code",
   "execution_count": 2,
   "metadata": {},
   "outputs": [],
   "source": [
    "train_data = pd.read_excel(\"tmdb-box-office-prediction/train.xlsx\")"
   ]
  },
  {
   "cell_type": "code",
   "execution_count": 3,
   "metadata": {},
   "outputs": [],
   "source": [
    "cols = train_data.columns"
   ]
  },
  {
   "cell_type": "code",
   "execution_count": 4,
   "metadata": {},
   "outputs": [],
   "source": [
    "#Function representing the data cleaning described above: \n",
    "def data_cleaning(data, cols):\n",
    "    # ### IDs\n",
    "    \n",
    "    data = data.drop(cols[0], axis = 1)\n",
    "\n",
    "\n",
    "    # ### Collection\n",
    "\n",
    "\n",
    "    collection_feature = data[cols[1]].isnull().astype('int')\n",
    "\n",
    "    data[cols[1]] = collection_feature\n",
    "\n",
    "\n",
    "    \n",
    "    #Budget \n",
    "    \n",
    "    #data[\"budget\"] = np.log(1 + data[\"budget\"].copy())\n",
    "    data[\"budget\"] = (data[\"budget\"].copy())/data[\"budget\"].std()  #We normalize the budget\n",
    "    # ### Genres\n",
    "\n",
    "\n",
    "    data[cols[3]] = data[cols[3]].fillna(\"[]\")\n",
    "\n",
    "    data[cols[3]] = [literal_eval(i) for i in data[cols[3]]]\n",
    "\n",
    "\n",
    "    list_of_genres = list(data['genres'].apply(lambda x: [i['name'] for i in x] ).values) #per movie\n",
    "\n",
    "\n",
    "    flat_list1 = [item for sublist in list_of_genres for item in sublist]\n",
    "\n",
    "\n",
    "    genres =[i[0] for i in Counter(flat_list1).most_common()]\n",
    "    \n",
    "    data[\"genres\"] = list_of_genres\n",
    "    \n",
    "    \n",
    "    genres_cols = []\n",
    "    for g in genres:\n",
    "        data[\"gr_\" + g]= data[cols[3]].apply(lambda x:1 if g in x else 0)\n",
    "        genres_cols.append(\"gr_\" + g)\n",
    "    \n",
    "    xx1 = int(np.floor(len(genres_cols)/3))\n",
    "    data[\"th1_genresum\"] = data[genres_cols[:xx1]].sum(axis = 1)\n",
    "    data[\"th2_genresum\"] = data[genres_cols[xx1:2*xx1]].sum(axis = 1)\n",
    "    data[\"th3_genresum\"] = data[genres_cols[2*xx1:]].sum(axis = 1)\n",
    "\n",
    "    data = data.drop(cols[3], axis = 1) #We drop the genres column\n",
    "    data = data.drop(genres_cols, axis = 1)\n",
    "\n",
    "\n",
    "    # ### Homepage\n",
    "\n",
    "\n",
    "    data[cols[4]] = (data[cols[4]].isnull() == 0)/1 # Homepage, If they have a homepage or not\n",
    "\n",
    "\n",
    "    # #### IMDB ID\n",
    "\n",
    "    data = data.drop(cols[5], axis = 1)\n",
    "\n",
    "\n",
    "    # ### OG Language\n",
    "\n",
    "    #We now have binary columns representing the og lang\n",
    "    \n",
    "    \n",
    "    \n",
    "    og_langs = [i[0] for i in Counter(data[cols[6]].tolist()).most_common()]\n",
    "\n",
    "    \n",
    "    og_lang_cols = []\n",
    "    for g in og_langs:\n",
    "        data[\"oglang\" + g]= data[cols[6]].apply(lambda x:1 if x in g else 0)\n",
    "        og_lang_cols.append(\"oglang\" + g)\n",
    "        \n",
    "        \n",
    "    xx2 = int(np.floor(len(og_lang_cols)/2))\n",
    "    data[\"og_lang_h1sum\"] = data[og_lang_cols[:xx2]].sum(axis = 1)\n",
    "    data[\"og_lang_h2sum\"] = data[og_lang_cols[xx2:]].sum(axis = 1)\n",
    "    #data[\"og_lang_q3sum\"] = data[og_lang_cols[2*xx2:]].sum(axis = 1)\n",
    "    #data[\"og_lang_q4sum\"] = data[og_lang_cols[3*xx2:]].sum(axis = 1)\n",
    "\n",
    "    data = data.drop(cols[6], axis = 1)\n",
    "    data = data.drop(og_lang_cols, axis = 1)\n",
    "\n",
    "\n",
    "    # ### OG Title\n",
    "\n",
    "    data = data.drop(cols[7], axis = 1)\n",
    "\n",
    "\n",
    "    # ### Movie Description\n",
    "\n",
    "    vectorizer = TfidfVectorizer(\n",
    "            analyzer='word', lowercase = True, \n",
    "            ngram_range=(1, 1),\n",
    "            min_df=5, max_df = 0.5, stop_words = \"english\")\n",
    "\n",
    "    vectorized_txt = vectorizer.fit_transform(data['overview'].fillna('').to_list())\n",
    "\n",
    "\n",
    "    pca = PCA(n_components = 150) \n",
    "    z = pca.fit_transform(vectorized_txt.todense())\n",
    "\n",
    "    data = pd.concat([data, pd.DataFrame(z)], axis = 1)\n",
    "\n",
    "    data = data.drop(cols[8], axis = 1)\n",
    "    \n",
    "    \n",
    "    \n",
    "    # ### Poster link\n",
    "\n",
    "    data = data.drop(cols[10], axis = 1)\n",
    "\n",
    "\n",
    "    # ### Prod Companies\n",
    "\n",
    "\n",
    "    data[cols[11]] = data[cols[11]].fillna(\"[]\")\n",
    "\n",
    "\n",
    "    data[cols[11]] = [literal_eval(i) for i in data[cols[11]]]\n",
    "\n",
    "\n",
    "    list_of_prods_comps = list(data[cols[11]].apply(lambda x: [i['name'] for i in x] ).values) #per movie\n",
    "\n",
    "\n",
    "    flat_list_prod_comps = [item for sublist in list_of_prods_comps for item in sublist]\n",
    "\n",
    "\n",
    "    prod_comps = [i[0] for i in Counter(flat_list_prod_comps).most_common()]\n",
    "\n",
    "    data[cols[11]] = list_of_prods_comps #Replacing the dictionaries by a list of names of the prod companies\n",
    "\n",
    "    \n",
    "    prod_comps_colnames = []\n",
    "    for g in prod_comps:\n",
    "        data[\"prod_comp_\" + g]= data[cols[11]].apply(lambda x:1 if g in x else 0)\n",
    "        prod_comps_colnames.append(\"prod_comp_\" + g)\n",
    "    \n",
    "    xx = int(np.floor(len(prod_comps_colnames)/4))\n",
    "    data[\"prod_comps_sum_q1\"] = data[prod_comps_colnames[:xx]].sum(axis = 1)\n",
    "    data[\"prod_comps_sumq2\"] = data[prod_comps_colnames[xx:2*xx]].sum(axis = 1)\n",
    "    data[\"prod_comps_sumq3\"] = data[prod_comps_colnames[2*xx:3*xx]].sum(axis = 1)\n",
    "    data[\"prod_comps_sumq4\"] = data[prod_comps_colnames[3*xx:]].sum(axis = 1)\n",
    "\n",
    "    data = data.drop(cols[11], axis = 1)\n",
    "    data = data.drop(prod_comps_colnames, axis = 1)\n",
    "\n",
    "\n",
    "    # ### Prod Countries\n",
    "\n",
    "  \n",
    "    data[cols[12]] = data[cols[12]].fillna(\"[]\")\n",
    "\n",
    "\n",
    "\n",
    "    data[cols[12]] = [literal_eval(i) for i in data[cols[12]]]\n",
    "\n",
    "\n",
    "\n",
    "    list_of_prods_countries = list(data[cols[12]].apply(lambda x: [i['name'] for i in x] ).values) #per movie\n",
    "\n",
    "\n",
    "    flat_list_prod_countries = [item for sublist in list_of_prods_countries for item in sublist]\n",
    "\n",
    "    prod_countries = [i[0] for i in Counter(flat_list_prod_countries).most_common()]\n",
    "    data[cols[12]] = list_of_prods_countries #Replacing the dictionaries by a list of names of the prod companies\n",
    "    \n",
    "    \n",
    "    prod_countries_cols = []\n",
    "    for g in prod_countries:\n",
    "        data[\"prod_country\" + g]= data[cols[12]].apply(lambda x:1 if g in x else 0)\n",
    "        prod_countries_cols.append(\"prod_country\" + g)\n",
    "    \n",
    "    \n",
    "    xx3 = int(np.floor(len(prod_countries_cols)/4))\n",
    "    data[\"prod_country_q1sum\"] = data[prod_countries_cols[:xx3]].sum(axis = 1)\n",
    "    data[\"prod_country_q2sum\"] = data[prod_countries_cols[xx3:2*xx3]].sum(axis = 1)\n",
    "    data[\"prod_country_q3sum\"] = data[prod_countries_cols[2*xx3:3*xx3]].sum(axis = 1)\n",
    "    data[\"prod_country_q4sum\"] = data[prod_countries_cols[3*xx3:]].sum(axis = 1)\n",
    "\n",
    "    data = data.drop(cols[12], axis = 1)\n",
    "    data = data.drop(prod_countries_cols, axis = 1)\n",
    "\n",
    "\n",
    "    # ### Release Date\n",
    "\n",
    "\n",
    "    data = data.drop(cols[13], axis = 1)\n",
    "\n",
    "\n",
    "    # ### Spoken Languages\n",
    "\n",
    "   \n",
    "\n",
    "    data[cols[15]] = data[cols[15]].fillna(\"[]\")\n",
    "\n",
    "\n",
    "\n",
    "    data[cols[15]] = [literal_eval(i) for i in data[cols[15]]]\n",
    "\n",
    "\n",
    "\n",
    "\n",
    "    list_of_spoken_lang = list(data[cols[15]].apply(lambda x: [i['name'] for i in x] ).values) #per movie\n",
    "\n",
    "\n",
    "    flat_list_spoken_lang = [item for sublist in list_of_spoken_lang for item in sublist]\n",
    "\n",
    "    \n",
    "\n",
    "    spoken_langs = [i[0] for i in Counter(flat_list_spoken_lang).most_common()]\n",
    "    data[cols[15]] = list_of_spoken_lang #Replacing the dictionaries by a list of names \n",
    "\n",
    "    \n",
    "    spoken_langs_cols = []\n",
    "    for g in spoken_langs:\n",
    "        data[\"spoken_lang\" + g]= data[cols[15]].apply(lambda x:1 if g in x else 0)\n",
    "        spoken_langs_cols.append(\"spoken_lang\" + g)\n",
    "    \n",
    "    \n",
    "    xx4 = int(np.floor(len(spoken_langs_cols)/4))\n",
    "    data[\"spoken_lang_q1sum\"] = data[spoken_langs_cols[:xx4]].sum(axis = 1)\n",
    "    data[\"spoken_lang_q2sum\"] = data[spoken_langs_cols[xx4:2*xx4]].sum(axis = 1)\n",
    "    data[\"spoken_lang_q3sum\"] = data[spoken_langs_cols[2*xx4:3*xx4]].sum(axis = 1)\n",
    "    data[\"spoken_lang_q4sum\"] = data[spoken_langs_cols[3*xx4:]].sum(axis = 1)\n",
    "\n",
    "    data = data.drop(cols[15], axis = 1)\n",
    "    data = data.drop(spoken_langs_cols, axis = 1)\n",
    "\n",
    "\n",
    "    # ### Released / Not Released\n",
    "\n",
    "    data = data.drop(cols[16], axis = 1)\n",
    "\n",
    "\n",
    "    # ### Tagline\n",
    "\n",
    "\n",
    "    data = data.drop(cols[17], axis = 1)\n",
    "\n",
    "\n",
    "    # ### Title\n",
    "\n",
    " \n",
    "    data = data.drop(cols[18], axis = 1)\n",
    "\n",
    "\n",
    "    # ### Keywords\n",
    "\n",
    "    data[cols[19]] = data[cols[19]].fillna(\"[]\")\n",
    "\n",
    "\n",
    "    data[cols[19]] = [literal_eval(i) for i in data[cols[19]]]\n",
    "\n",
    "\n",
    "    list_of_keywords = list(data[cols[19]].apply(lambda x: [i['name'] for i in x] ).values) #per movie\n",
    "\n",
    "\n",
    "    flat_list_keywords = [item for sublist in list_of_keywords for item in sublist]\n",
    "\n",
    "\n",
    "\n",
    "    top_30_keywords = [i[0] for i in Counter(flat_list_keywords).most_common(30)]\n",
    "\n",
    "\n",
    "\n",
    "    data[cols[19]] = list_of_keywords #Replacing the dictionaries by a list of names of the keywords\n",
    "\n",
    "\n",
    "    \n",
    "    keywd_cols = []\n",
    "    for g in top_30_keywords:\n",
    "        data[\"keyword\" + g]= data[cols[19]].apply(lambda x:1 if g in x else 0)\n",
    "        keywd_cols.append(\"keyword\" + g)\n",
    "\n",
    "    data[\"sum_q1_keywd\"] = data[keywd_cols[:10]].sum(axis = 1)\n",
    "    data[\"sum_q2_keywd\"] = data[keywd_cols[10:20]].sum(axis = 1)\n",
    "    data[\"sum_q3_keywd\"] = data[keywd_cols[20:]].sum(axis = 1)\n",
    "\n",
    "    data = data.drop(cols[19], axis = 1)\n",
    "    data = data.drop(keywd_cols, axis = 1)\n",
    "\n",
    "    # ### Cast\n",
    "\n",
    "\n",
    "    data[cols[20]] = data[cols[20]].fillna(\"[]\")\n",
    "\n",
    "\n",
    "    data[cols[20]] = [literal_eval(i) for i in data[cols[20]]]\n",
    "\n",
    "\n",
    "    list_of_cast_names = list(data[cols[20]].apply(lambda x: [i['name'] for i in x] ).values) #per movie\n",
    "\n",
    "    flat_list_cast_names = [item for sublist in list_of_cast_names for item in sublist]\n",
    "\n",
    "    list_genders = list(data[cols[20]].apply(lambda x: [i['gender'] for i in x] ).values)\n",
    "    \n",
    "    genders_df = pd.DataFrame([Counter(list_genders[i]) for i in range(len(list_genders))])\n",
    "    genders_df = genders_df.fillna(value = 0)\n",
    "    genders_df = genders_df.rename(columns = {1:\"Female\", 2:\"Male\"})\n",
    "\n",
    "    cast_names = [i[0] for i in Counter(flat_list_cast_names).most_common(1000)]\n",
    "    data[cols[20]] = list_of_cast_names #Replacing the dictionaries by a list of names \n",
    "\n",
    "\n",
    "    cast_cols = []\n",
    "    for g in cast_names:\n",
    "        data[\"cast_name_\" + g]= data[cols[20]].apply(lambda x:1 if g in x else 0)\n",
    "        cast_cols.append(\"cast_name_\" + g)\n",
    "    \n",
    "    xx5 = int(np.floor(len(cast_cols)/4))\n",
    "    \n",
    "    data[\"q1cast_sum\"] = data[cast_cols[:xx5]].sum(axis = 1)\n",
    "    data[\"cast_q2sum\"] = data[cast_cols[xx5:2*xx5]].sum(axis = 1)\n",
    "    data[\"cast_q3sum\"] = data[cast_cols[2*xx5:3*xx5]].sum(axis = 1)\n",
    "    data[\"cast_q4sum\"] = data[cast_cols[3*xx5:]].sum(axis = 1)\n",
    "\n",
    "    data = data.drop(cols[20], axis = 1)\n",
    "    data = data.drop(cast_cols, axis = 1)\n",
    "\n",
    "    data = pd.concat([data, genders_df.drop(0, axis = 1)], axis = 1)\n",
    "\n",
    "    # ### Crew\n",
    "\n",
    "\n",
    "    data[cols[21]] = data[cols[21]].fillna(\"[]\")\n",
    "\n",
    "\n",
    "    data[cols[21]] = [literal_eval(i) for i in data[cols[21]]]\n",
    "\n",
    "    list_of_crew_names = list(data[cols[21]].apply(lambda x: [i['name'] for i in x] ).values) #per movie\n",
    "\n",
    "\n",
    "\n",
    "    flat_list_crew_names = [item for sublist in list_of_crew_names for item in sublist]\n",
    "\n",
    "\n",
    "    crew_names = [i[0] for i in Counter(flat_list_crew_names).most_common(1000)]\n",
    "    data[cols[21]] = list_of_crew_names #Replacing the dictionaries by a list of names of the prod companies\n",
    "\n",
    "    \n",
    "    crew_names_cols = []\n",
    "    for g in crew_names:\n",
    "        data[\"crew_name_\" + g]= data[cols[21]].apply(lambda x:1 if g in x else 0)\n",
    "        crew_names_cols.append(\"crew_name_\" + g)\n",
    "\n",
    "    \n",
    "    xx6 = int(np.floor(len(crew_names_cols)/4))\n",
    "    data[\"sum_q1_crew\"] = data[crew_names_cols[:xx6]].sum(axis = 1)\n",
    "    data[\"sum_q2_crew\"] = data[crew_names_cols[xx6:2*xx6]].sum(axis = 1)\n",
    "    data[\"sum_q3_crew\"] = data[crew_names_cols[2*xx6:3*xx6]].sum(axis = 1)\n",
    "    data[\"sum_q4_crew\"] = data[crew_names_cols[3*xx6:]].sum(axis = 1)\n",
    "\n",
    "    data = data.drop(cols[21], axis = 1)\n",
    "    data = data.drop(crew_names_cols, axis = 1)\n",
    "\n",
    "\n",
    "\n",
    "    data[\"runtime\"] = data[\"runtime\"].fillna(value = 0)\n",
    "    \n",
    "    #Revenue\n",
    "    \n",
    "    data[\"revenue\"] = data[\"revenue\"].copy()**0.5\n",
    "    \n",
    "    return data.drop(\"revenue\", axis = 1), data[\"revenue\"]\n",
    "\n",
    "\n"
   ]
  },
  {
   "cell_type": "code",
   "execution_count": 5,
   "metadata": {},
   "outputs": [],
   "source": [
    "# pca 150 and 30 factors is really good"
   ]
  },
  {
   "cell_type": "code",
   "execution_count": 9,
   "metadata": {},
   "outputs": [],
   "source": [
    "X_clean, Y_clean= data_cleaning(train_data, cols)\n"
   ]
  },
  {
   "cell_type": "code",
   "execution_count": 10,
   "metadata": {},
   "outputs": [],
   "source": [
    "X_train, X_test, y_train, y_test = train_test_split(X_clean, Y_clean, test_size = 1/3)"
   ]
  },
  {
   "cell_type": "code",
   "execution_count": 11,
   "metadata": {},
   "outputs": [],
   "source": [
    "X_train, X_test, y_train, y_test = X_train.reset_index(drop = True), X_test.reset_index(drop = True), y_train.reset_index(drop = True), y_test.reset_index(drop = True)"
   ]
  },
  {
   "cell_type": "code",
   "execution_count": 12,
   "metadata": {},
   "outputs": [
    {
     "data": {
      "text/plain": [
       "((2000, 185), (1000, 185))"
      ]
     },
     "execution_count": 12,
     "metadata": {},
     "output_type": "execute_result"
    }
   ],
   "source": [
    "(X_train.shape, X_test.shape)"
   ]
  },
  {
   "cell_type": "code",
   "execution_count": 13,
   "metadata": {},
   "outputs": [],
   "source": [
    "estimator = SVR(kernel=\"linear\")\n",
    "selector = RFE(estimator, n_features_to_select=30, step=1)"
   ]
  },
  {
   "cell_type": "code",
   "execution_count": 14,
   "metadata": {},
   "outputs": [],
   "source": [
    "selector = selector.fit(X_train, y_train)"
   ]
  },
  {
   "cell_type": "code",
   "execution_count": 15,
   "metadata": {},
   "outputs": [],
   "source": [
    "idx = [i for i,j in enumerate(selector.support_) if j == True]"
   ]
  },
  {
   "cell_type": "code",
   "execution_count": 16,
   "metadata": {},
   "outputs": [],
   "source": [
    "X_train1 = pd.DataFrame(selector.transform(X_train), columns = X_train.columns[idx])\n",
    "X_test1 = pd.DataFrame(selector.transform(X_test), columns = X_train.columns[idx])"
   ]
  },
  {
   "cell_type": "code",
   "execution_count": 17,
   "metadata": {},
   "outputs": [],
   "source": [
    "X_train = X_train1.copy()\n",
    "X_test = X_test1.copy()"
   ]
  },
  {
   "cell_type": "code",
   "execution_count": 18,
   "metadata": {},
   "outputs": [
    {
     "data": {
      "text/plain": [
       "Index(['belongs_to_collection',                'budget',\n",
       "                    'homepage',            'popularity',\n",
       "                     'runtime',          'th1_genresum',\n",
       "                'th2_genresum',          'th3_genresum',\n",
       "                            16,     'prod_comps_sum_q1',\n",
       "            'prod_comps_sumq2',      'prod_comps_sumq3',\n",
       "            'prod_comps_sumq4',    'prod_country_q1sum',\n",
       "          'prod_country_q2sum',    'prod_country_q3sum',\n",
       "           'spoken_lang_q1sum',          'sum_q1_keywd',\n",
       "                'sum_q2_keywd',          'sum_q3_keywd',\n",
       "                  'q1cast_sum',            'cast_q2sum',\n",
       "                  'cast_q3sum',            'cast_q4sum',\n",
       "                        'Male',                'Female',\n",
       "                 'sum_q1_crew',           'sum_q2_crew',\n",
       "                 'sum_q3_crew',           'sum_q4_crew'],\n",
       "      dtype='object')"
      ]
     },
     "execution_count": 18,
     "metadata": {},
     "output_type": "execute_result"
    }
   ],
   "source": [
    "X_train.columns"
   ]
  },
  {
   "cell_type": "code",
   "execution_count": 19,
   "metadata": {},
   "outputs": [],
   "source": [
    "#Looking into which features are correlated:\n",
    "\n",
    "df_corr = X_train.corr().abs()"
   ]
  },
  {
   "cell_type": "code",
   "execution_count": 20,
   "metadata": {},
   "outputs": [],
   "source": [
    "corr_array = X_train.corr().abs().to_numpy()"
   ]
  },
  {
   "cell_type": "code",
   "execution_count": 21,
   "metadata": {},
   "outputs": [],
   "source": [
    "cols_high_corr = []\n",
    "for i in range(24):\n",
    "    for j in range(24):\n",
    "        if corr_array[i, j] >= 0.6:\n",
    "            if i!=j:\n",
    "                cols_high_corr.append((df_corr.columns[i], df_corr.columns[j], corr_array[i, j]))"
   ]
  },
  {
   "cell_type": "code",
   "execution_count": 22,
   "metadata": {},
   "outputs": [
    {
     "data": {
      "text/plain": [
       "0"
      ]
     },
     "execution_count": 22,
     "metadata": {},
     "output_type": "execute_result"
    }
   ],
   "source": [
    "len(cols_high_corr)"
   ]
  },
  {
   "cell_type": "code",
   "execution_count": 120,
   "metadata": {},
   "outputs": [
    {
     "data": {
      "text/plain": [
       "[]"
      ]
     },
     "execution_count": 120,
     "metadata": {},
     "output_type": "execute_result"
    }
   ],
   "source": [
    "cols_high_corr"
   ]
  },
  {
   "cell_type": "markdown",
   "metadata": {},
   "source": [
    "# MODELLING"
   ]
  },
  {
   "cell_type": "markdown",
   "metadata": {},
   "source": [
    "Need to look into correlation and what variables are identical\n",
    "Also need to look into how to aggregate the cast to make it as interesting as possible"
   ]
  },
  {
   "cell_type": "code",
   "execution_count": 35,
   "metadata": {},
   "outputs": [
    {
     "data": {
      "text/html": [
       "<style type='text/css'>\n",
       ".datatable table.frame { margin-bottom: 0; }\n",
       ".datatable table.frame thead { border-bottom: none; }\n",
       ".datatable table.frame tr.coltypes td {  color: #FFFFFF;  line-height: 6px;  padding: 0 0.5em;}\n",
       ".datatable .boolean { background: #DDDD99; }\n",
       ".datatable .object  { background: #565656; }\n",
       ".datatable .integer { background: #5D9E5D; }\n",
       ".datatable .float   { background: #4040CC; }\n",
       ".datatable .string  { background: #CC4040; }\n",
       ".datatable .row_index {  background: var(--jp-border-color3);  border-right: 1px solid var(--jp-border-color0);  color: var(--jp-ui-font-color3);  font-size: 9px;}\n",
       ".datatable .frame tr.coltypes .row_index {  background: var(--jp-border-color0);}\n",
       ".datatable th:nth-child(2) { padding-left: 12px; }\n",
       ".datatable .hellipsis {  color: var(--jp-cell-editor-border-color);}\n",
       ".datatable .vellipsis {  background: var(--jp-layout-color0);  color: var(--jp-cell-editor-border-color);}\n",
       ".datatable .na {  color: var(--jp-cell-editor-border-color);  font-size: 80%;}\n",
       ".datatable .footer { font-size: 9px; }\n",
       ".datatable .frame_dimensions {  background: var(--jp-border-color3);  border-top: 1px solid var(--jp-border-color0);  color: var(--jp-ui-font-color3);  display: inline-block;  opacity: 0.6;  padding: 1px 10px 1px 5px;}\n",
       "</style>\n"
      ],
      "text/plain": [
       "<IPython.core.display.HTML object>"
      ]
     },
     "metadata": {},
     "output_type": "display_data"
    }
   ],
   "source": [
    "import xgboost as xgb\n",
    "from sklearn.metrics import auc, accuracy_score, confusion_matrix, mean_squared_error, r2_score, median_absolute_error\n",
    "from sklearn.model_selection import cross_val_score, GridSearchCV, KFold, RandomizedSearchCV\n",
    "from sklearn.linear_model import LinearRegression\n",
    "import statsmodels.api as sm\n",
    "from sklearn.tree import DecisionTreeRegressor\n"
   ]
  },
  {
   "cell_type": "markdown",
   "metadata": {},
   "source": [
    "We need to reduce dimensions due to correlated features. "
   ]
  },
  {
   "cell_type": "code",
   "execution_count": 79,
   "metadata": {},
   "outputs": [],
   "source": [
    "#X_train = X_train.drop([ 'og_lang_h2sum'], axis = 1)\n",
    "#X_test = X_test.drop(['og_lang_h2sum'], axis = 1)"
   ]
  },
  {
   "cell_type": "code",
   "execution_count": null,
   "metadata": {},
   "outputs": [],
   "source": [
    "np.linalg.matrix_rank(X_train)"
   ]
  },
  {
   "cell_type": "code",
   "execution_count": null,
   "metadata": {},
   "outputs": [],
   "source": [
    "np.linalg.matrix_rank(np.linalg.inv(np.transpose(X_train)@X_train))"
   ]
  },
  {
   "cell_type": "code",
   "execution_count": null,
   "metadata": {},
   "outputs": [],
   "source": [
    "np.linalg.inv(np.transpose(X_train)@X_train).shape"
   ]
  },
  {
   "cell_type": "code",
   "execution_count": 33,
   "metadata": {},
   "outputs": [],
   "source": [
    "def metrics(model, x_train, x_test, y_train, y_test):\n",
    "    preds_insamp = model.predict(x_train)\n",
    "    preds_os = model.predict(x_test)\n",
    "    \n",
    "    print(\"R2 in sample is \" + str(r2_score(y_train, preds_insamp)))\n",
    "    print(\"R2 out of sample is \"  + str(r2_score(y_test, preds_os)))\n",
    "    print(\"MSE in sample is \" + str( mean_squared_error(y_train, preds_insamp)))\n",
    "    print(\"MSE out of sample is \"  + str(mean_squared_error(y_test, preds_os)))\n",
    "    print(\"MAE in sample is \" + str( median_absolute_error(y_train, preds_insamp)))\n",
    "    print(\"MAE out of sample is \" + str( median_absolute_error(y_test, preds_os)))"
   ]
  },
  {
   "cell_type": "markdown",
   "metadata": {},
   "source": [
    "### Linear Regression \n",
    "With HAC standard errors\n"
   ]
  },
  {
   "cell_type": "markdown",
   "metadata": {},
   "source": [
    "X_train = sm.add_constant(X_train)"
   ]
  },
  {
   "cell_type": "code",
   "execution_count": 127,
   "metadata": {},
   "outputs": [
    {
     "data": {
      "text/html": [
       "<table class=\"simpletable\">\n",
       "<caption>OLS Regression Results</caption>\n",
       "<tr>\n",
       "  <th>Dep. Variable:</th>         <td>revenue</td>     <th>  R-squared (uncentered):</th>      <td>   0.844</td> \n",
       "</tr>\n",
       "<tr>\n",
       "  <th>Model:</th>                   <td>OLS</td>       <th>  Adj. R-squared (uncentered):</th> <td>   0.842</td> \n",
       "</tr>\n",
       "<tr>\n",
       "  <th>Method:</th>             <td>Least Squares</td>  <th>  F-statistic:       </th>          <td>   221.5</td> \n",
       "</tr>\n",
       "<tr>\n",
       "  <th>Date:</th>             <td>Mon, 23 Nov 2020</td> <th>  Prob (F-statistic):</th>           <td>  0.00</td>  \n",
       "</tr>\n",
       "<tr>\n",
       "  <th>Time:</th>                 <td>10:29:33</td>     <th>  Log-Likelihood:    </th>          <td> -18979.</td> \n",
       "</tr>\n",
       "<tr>\n",
       "  <th>No. Observations:</th>      <td>  2000</td>      <th>  AIC:               </th>          <td>3.802e+04</td>\n",
       "</tr>\n",
       "<tr>\n",
       "  <th>Df Residuals:</th>          <td>  1970</td>      <th>  BIC:               </th>          <td>3.819e+04</td>\n",
       "</tr>\n",
       "<tr>\n",
       "  <th>Df Model:</th>              <td>    30</td>      <th>                     </th>              <td> </td>    \n",
       "</tr>\n",
       "<tr>\n",
       "  <th>Covariance Type:</th>         <td>HC3</td>       <th>                     </th>              <td> </td>    \n",
       "</tr>\n",
       "</table>\n",
       "<table class=\"simpletable\">\n",
       "<tr>\n",
       "            <td></td>               <th>coef</th>     <th>std err</th>      <th>z</th>      <th>P>|z|</th>  <th>[0.025</th>    <th>0.975]</th>  \n",
       "</tr>\n",
       "<tr>\n",
       "  <th>belongs_to_collection</th> <td>-2064.0810</td> <td>  221.424</td> <td>   -9.322</td> <td> 0.000</td> <td>-2498.065</td> <td>-1630.097</td>\n",
       "</tr>\n",
       "<tr>\n",
       "  <th>budget</th>                <td> 2754.0897</td> <td>  179.086</td> <td>   15.379</td> <td> 0.000</td> <td> 2403.087</td> <td> 3105.092</td>\n",
       "</tr>\n",
       "<tr>\n",
       "  <th>homepage</th>              <td>  827.3102</td> <td>  186.363</td> <td>    4.439</td> <td> 0.000</td> <td>  462.046</td> <td> 1192.575</td>\n",
       "</tr>\n",
       "<tr>\n",
       "  <th>popularity</th>            <td>   91.5240</td> <td>   28.102</td> <td>    3.257</td> <td> 0.001</td> <td>   36.445</td> <td>  146.603</td>\n",
       "</tr>\n",
       "<tr>\n",
       "  <th>runtime</th>               <td>   25.7528</td> <td>    2.845</td> <td>    9.052</td> <td> 0.000</td> <td>   20.177</td> <td>   31.329</td>\n",
       "</tr>\n",
       "<tr>\n",
       "  <th>th1_genresum</th>          <td>   46.1081</td> <td>   81.045</td> <td>    0.569</td> <td> 0.569</td> <td> -112.737</td> <td>  204.953</td>\n",
       "</tr>\n",
       "<tr>\n",
       "  <th>th2_genresum</th>          <td>  476.3813</td> <td>   98.980</td> <td>    4.813</td> <td> 0.000</td> <td>  282.384</td> <td>  670.379</td>\n",
       "</tr>\n",
       "<tr>\n",
       "  <th>th3_genresum</th>          <td>  262.2496</td> <td>  181.069</td> <td>    1.448</td> <td> 0.148</td> <td>  -92.639</td> <td>  617.138</td>\n",
       "</tr>\n",
       "<tr>\n",
       "  <th>16</th>                    <td>-4867.0364</td> <td> 1565.783</td> <td>   -3.108</td> <td> 0.002</td> <td>-7935.915</td> <td>-1798.158</td>\n",
       "</tr>\n",
       "<tr>\n",
       "  <th>prod_comps_sum_q1</th>     <td>  224.9492</td> <td>   63.928</td> <td>    3.519</td> <td> 0.000</td> <td>   99.652</td> <td>  350.246</td>\n",
       "</tr>\n",
       "<tr>\n",
       "  <th>prod_comps_sumq2</th>      <td> -291.1256</td> <td>   88.077</td> <td>   -3.305</td> <td> 0.001</td> <td> -463.754</td> <td> -118.497</td>\n",
       "</tr>\n",
       "<tr>\n",
       "  <th>prod_comps_sumq3</th>      <td> -202.6584</td> <td>   86.012</td> <td>   -2.356</td> <td> 0.018</td> <td> -371.238</td> <td>  -34.079</td>\n",
       "</tr>\n",
       "<tr>\n",
       "  <th>prod_comps_sumq4</th>      <td> -331.8974</td> <td>   84.516</td> <td>   -3.927</td> <td> 0.000</td> <td> -497.545</td> <td> -166.250</td>\n",
       "</tr>\n",
       "<tr>\n",
       "  <th>prod_country_q1sum</th>    <td>   -8.3620</td> <td>  132.373</td> <td>   -0.063</td> <td> 0.950</td> <td> -267.808</td> <td>  251.084</td>\n",
       "</tr>\n",
       "<tr>\n",
       "  <th>prod_country_q2sum</th>    <td> -569.0567</td> <td>  288.089</td> <td>   -1.975</td> <td> 0.048</td> <td>-1133.700</td> <td>   -4.413</td>\n",
       "</tr>\n",
       "<tr>\n",
       "  <th>prod_country_q3sum</th>    <td> -658.6755</td> <td>  423.650</td> <td>   -1.555</td> <td> 0.120</td> <td>-1489.014</td> <td>  171.663</td>\n",
       "</tr>\n",
       "<tr>\n",
       "  <th>spoken_lang_q1sum</th>     <td>  150.8978</td> <td>  110.501</td> <td>    1.366</td> <td> 0.172</td> <td>  -65.679</td> <td>  367.475</td>\n",
       "</tr>\n",
       "<tr>\n",
       "  <th>sum_q1_keywd</th>          <td> -216.0475</td> <td>  123.437</td> <td>   -1.750</td> <td> 0.080</td> <td> -457.979</td> <td>   25.884</td>\n",
       "</tr>\n",
       "<tr>\n",
       "  <th>sum_q2_keywd</th>          <td>  330.6453</td> <td>  147.885</td> <td>    2.236</td> <td> 0.025</td> <td>   40.795</td> <td>  620.495</td>\n",
       "</tr>\n",
       "<tr>\n",
       "  <th>sum_q3_keywd</th>          <td> -126.2900</td> <td>  196.963</td> <td>   -0.641</td> <td> 0.521</td> <td> -512.331</td> <td>  259.751</td>\n",
       "</tr>\n",
       "<tr>\n",
       "  <th>q1cast_sum</th>            <td>  189.9034</td> <td>   66.216</td> <td>    2.868</td> <td> 0.004</td> <td>   60.122</td> <td>  319.684</td>\n",
       "</tr>\n",
       "<tr>\n",
       "  <th>cast_q2sum</th>            <td>  152.6841</td> <td>   86.501</td> <td>    1.765</td> <td> 0.078</td> <td>  -16.854</td> <td>  322.223</td>\n",
       "</tr>\n",
       "<tr>\n",
       "  <th>cast_q3sum</th>            <td>  136.1978</td> <td>   92.833</td> <td>    1.467</td> <td> 0.142</td> <td>  -45.752</td> <td>  318.147</td>\n",
       "</tr>\n",
       "<tr>\n",
       "  <th>cast_q4sum</th>            <td>   93.4751</td> <td>  102.789</td> <td>    0.909</td> <td> 0.363</td> <td> -107.987</td> <td>  294.937</td>\n",
       "</tr>\n",
       "<tr>\n",
       "  <th>Male</th>                  <td>   -6.9696</td> <td>   14.050</td> <td>   -0.496</td> <td> 0.620</td> <td>  -34.508</td> <td>   20.568</td>\n",
       "</tr>\n",
       "<tr>\n",
       "  <th>Female</th>                <td>   84.9721</td> <td>   18.517</td> <td>    4.589</td> <td> 0.000</td> <td>   48.679</td> <td>  121.265</td>\n",
       "</tr>\n",
       "<tr>\n",
       "  <th>sum_q1_crew</th>           <td>  101.8653</td> <td>   72.827</td> <td>    1.399</td> <td> 0.162</td> <td>  -40.873</td> <td>  244.603</td>\n",
       "</tr>\n",
       "<tr>\n",
       "  <th>sum_q2_crew</th>           <td>   68.9535</td> <td>   98.219</td> <td>    0.702</td> <td> 0.483</td> <td> -123.553</td> <td>  261.460</td>\n",
       "</tr>\n",
       "<tr>\n",
       "  <th>sum_q3_crew</th>           <td>  249.9100</td> <td>  102.423</td> <td>    2.440</td> <td> 0.015</td> <td>   49.165</td> <td>  450.655</td>\n",
       "</tr>\n",
       "<tr>\n",
       "  <th>sum_q4_crew</th>           <td>  124.1999</td> <td>  104.304</td> <td>    1.191</td> <td> 0.234</td> <td>  -80.233</td> <td>  328.633</td>\n",
       "</tr>\n",
       "</table>\n",
       "<table class=\"simpletable\">\n",
       "<tr>\n",
       "  <th>Omnibus:</th>       <td>347.743</td> <th>  Durbin-Watson:     </th> <td>   1.927</td> \n",
       "</tr>\n",
       "<tr>\n",
       "  <th>Prob(Omnibus):</th> <td> 0.000</td>  <th>  Jarque-Bera (JB):  </th> <td>1065.325</td> \n",
       "</tr>\n",
       "<tr>\n",
       "  <th>Skew:</th>          <td> 0.881</td>  <th>  Prob(JB):          </th> <td>4.65e-232</td>\n",
       "</tr>\n",
       "<tr>\n",
       "  <th>Kurtosis:</th>      <td> 6.111</td>  <th>  Cond. No.          </th> <td>2.44e+03</td> \n",
       "</tr>\n",
       "</table><br/><br/>Warnings:<br/>[1] Standard Errors are heteroscedasticity robust (HC3)<br/>[2] The condition number is large, 2.44e+03. This might indicate that there are<br/>strong multicollinearity or other numerical problems."
      ],
      "text/plain": [
       "<class 'statsmodels.iolib.summary.Summary'>\n",
       "\"\"\"\n",
       "                                 OLS Regression Results                                \n",
       "=======================================================================================\n",
       "Dep. Variable:                revenue   R-squared (uncentered):                   0.844\n",
       "Model:                            OLS   Adj. R-squared (uncentered):              0.842\n",
       "Method:                 Least Squares   F-statistic:                              221.5\n",
       "Date:                Mon, 23 Nov 2020   Prob (F-statistic):                        0.00\n",
       "Time:                        10:29:33   Log-Likelihood:                         -18979.\n",
       "No. Observations:                2000   AIC:                                  3.802e+04\n",
       "Df Residuals:                    1970   BIC:                                  3.819e+04\n",
       "Df Model:                          30                                                  \n",
       "Covariance Type:                  HC3                                                  \n",
       "=========================================================================================\n",
       "                            coef    std err          z      P>|z|      [0.025      0.975]\n",
       "-----------------------------------------------------------------------------------------\n",
       "belongs_to_collection -2064.0810    221.424     -9.322      0.000   -2498.065   -1630.097\n",
       "budget                 2754.0897    179.086     15.379      0.000    2403.087    3105.092\n",
       "homepage                827.3102    186.363      4.439      0.000     462.046    1192.575\n",
       "popularity               91.5240     28.102      3.257      0.001      36.445     146.603\n",
       "runtime                  25.7528      2.845      9.052      0.000      20.177      31.329\n",
       "th1_genresum             46.1081     81.045      0.569      0.569    -112.737     204.953\n",
       "th2_genresum            476.3813     98.980      4.813      0.000     282.384     670.379\n",
       "th3_genresum            262.2496    181.069      1.448      0.148     -92.639     617.138\n",
       "16                    -4867.0364   1565.783     -3.108      0.002   -7935.915   -1798.158\n",
       "prod_comps_sum_q1       224.9492     63.928      3.519      0.000      99.652     350.246\n",
       "prod_comps_sumq2       -291.1256     88.077     -3.305      0.001    -463.754    -118.497\n",
       "prod_comps_sumq3       -202.6584     86.012     -2.356      0.018    -371.238     -34.079\n",
       "prod_comps_sumq4       -331.8974     84.516     -3.927      0.000    -497.545    -166.250\n",
       "prod_country_q1sum       -8.3620    132.373     -0.063      0.950    -267.808     251.084\n",
       "prod_country_q2sum     -569.0567    288.089     -1.975      0.048   -1133.700      -4.413\n",
       "prod_country_q3sum     -658.6755    423.650     -1.555      0.120   -1489.014     171.663\n",
       "spoken_lang_q1sum       150.8978    110.501      1.366      0.172     -65.679     367.475\n",
       "sum_q1_keywd           -216.0475    123.437     -1.750      0.080    -457.979      25.884\n",
       "sum_q2_keywd            330.6453    147.885      2.236      0.025      40.795     620.495\n",
       "sum_q3_keywd           -126.2900    196.963     -0.641      0.521    -512.331     259.751\n",
       "q1cast_sum              189.9034     66.216      2.868      0.004      60.122     319.684\n",
       "cast_q2sum              152.6841     86.501      1.765      0.078     -16.854     322.223\n",
       "cast_q3sum              136.1978     92.833      1.467      0.142     -45.752     318.147\n",
       "cast_q4sum               93.4751    102.789      0.909      0.363    -107.987     294.937\n",
       "Male                     -6.9696     14.050     -0.496      0.620     -34.508      20.568\n",
       "Female                   84.9721     18.517      4.589      0.000      48.679     121.265\n",
       "sum_q1_crew             101.8653     72.827      1.399      0.162     -40.873     244.603\n",
       "sum_q2_crew              68.9535     98.219      0.702      0.483    -123.553     261.460\n",
       "sum_q3_crew             249.9100    102.423      2.440      0.015      49.165     450.655\n",
       "sum_q4_crew             124.1999    104.304      1.191      0.234     -80.233     328.633\n",
       "==============================================================================\n",
       "Omnibus:                      347.743   Durbin-Watson:                   1.927\n",
       "Prob(Omnibus):                  0.000   Jarque-Bera (JB):             1065.325\n",
       "Skew:                           0.881   Prob(JB):                    4.65e-232\n",
       "Kurtosis:                       6.111   Cond. No.                     2.44e+03\n",
       "==============================================================================\n",
       "\n",
       "Warnings:\n",
       "[1] Standard Errors are heteroscedasticity robust (HC3)\n",
       "[2] The condition number is large, 2.44e+03. This might indicate that there are\n",
       "strong multicollinearity or other numerical problems.\n",
       "\"\"\""
      ]
     },
     "execution_count": 127,
     "metadata": {},
     "output_type": "execute_result"
    }
   ],
   "source": [
    "linear_reg_1 = sm.OLS(y_train, X_train)\n",
    "linear_reg_1_res = linear_reg_1.fit(cov_type = \"HC3\")\n",
    "linear_reg_1_res.summary()"
   ]
  },
  {
   "cell_type": "code",
   "execution_count": 133,
   "metadata": {},
   "outputs": [],
   "source": [
    "results_as_html = linear_reg_1_res.summary().tables[1].as_html()\n",
    "res1 = pd.read_html(results_as_html, header=0, index_col=0)[0]"
   ]
  },
  {
   "cell_type": "code",
   "execution_count": 136,
   "metadata": {},
   "outputs": [],
   "source": [
    "res1.to_csv(\"res1.csv\")"
   ]
  },
  {
   "cell_type": "code",
   "execution_count": 124,
   "metadata": {},
   "outputs": [
    {
     "name": "stdout",
     "output_type": "stream",
     "text": [
      "R2 in sample is 0.6924033619002565\n",
      "R2 out of sample is 0.6721765934346531\n",
      "MSE in sample is 10254715.185697569\n",
      "MSE out of sample is 10815968.087644883\n",
      "MAE in sample is 1759.8013483056789\n",
      "MAE out of sample is 1658.1213325187186\n"
     ]
    }
   ],
   "source": [
    "metrics(linear_reg_1_res, X_train, X_test, y_train, y_test)"
   ]
  },
  {
   "cell_type": "markdown",
   "metadata": {},
   "source": [
    "## Ridge Regression "
   ]
  },
  {
   "cell_type": "code",
   "execution_count": 125,
   "metadata": {},
   "outputs": [],
   "source": [
    "from sklearn.linear_model import RidgeCV"
   ]
  },
  {
   "cell_type": "code",
   "execution_count": 126,
   "metadata": {},
   "outputs": [],
   "source": [
    "ridge1 = RidgeCV(alphas = list(range(5, 35)))\n",
    "ridge1_res = ridge1.fit(X_train, y_train)"
   ]
  },
  {
   "cell_type": "code",
   "execution_count": 127,
   "metadata": {},
   "outputs": [
    {
     "name": "stdout",
     "output_type": "stream",
     "text": [
      "R2 in sample is 0.6960358526762223\n",
      "R2 out of sample is 0.6748893545006166\n",
      "MSE in sample is 10133614.517782848\n",
      "MSE out of sample is 10726465.213441122\n",
      "MAE in sample is 1757.8941689765059\n",
      "MAE out of sample is 1674.8040643609438\n"
     ]
    }
   ],
   "source": [
    "metrics(ridge1_res, X_train, X_test, y_train, y_test)"
   ]
  },
  {
   "cell_type": "code",
   "execution_count": null,
   "metadata": {},
   "outputs": [],
   "source": [
    "ridge1.alpha_"
   ]
  },
  {
   "cell_type": "code",
   "execution_count": 128,
   "metadata": {},
   "outputs": [
    {
     "data": {
      "text/plain": [
       "array([-2557.92427229,  2874.93629977,   754.03032093,    70.98011029,\n",
       "          15.84700927,   370.82866732,    67.66863708, -1962.74751971,\n",
       "       -1760.20636862,   181.07655957,  -338.6250408 ,  -228.72806997,\n",
       "        -212.20461372,  -158.42991704,  -684.36402126,    80.73458184,\n",
       "        -212.84818342,  -166.08922577,   246.26581754,    34.68144564,\n",
       "          51.07105805,   146.38396012,   215.61130105,    12.40125213,\n",
       "          -3.76650251,    77.86108116,   170.48641027,    22.07672572,\n",
       "         260.38127355,   212.61017884])"
      ]
     },
     "execution_count": 128,
     "metadata": {},
     "output_type": "execute_result"
    }
   ],
   "source": [
    "ridge1.coef_"
   ]
  },
  {
   "cell_type": "code",
   "execution_count": null,
   "metadata": {},
   "outputs": [],
   "source": []
  },
  {
   "cell_type": "markdown",
   "metadata": {},
   "source": [
    "### Decision Trees: "
   ]
  },
  {
   "cell_type": "code",
   "execution_count": 139,
   "metadata": {},
   "outputs": [],
   "source": [
    "from sklearn.tree import export_graphviz "
   ]
  },
  {
   "cell_type": "markdown",
   "metadata": {},
   "source": [
    "Let's look into tuning max depth"
   ]
  },
  {
   "cell_type": "code",
   "execution_count": 140,
   "metadata": {},
   "outputs": [],
   "source": [
    "mx_depth = list(range(1, 60))"
   ]
  },
  {
   "cell_type": "code",
   "execution_count": 141,
   "metadata": {},
   "outputs": [],
   "source": [
    "r2_is = []\n",
    "r2_os = []\n",
    "for dep in mx_depth:\n",
    "    regressor_tree_temp = DecisionTreeRegressor(random_state=35, max_depth = dep).fit(X_train, y_train)\n",
    "    preds_temp_is = regressor_tree_temp.predict(X_train)\n",
    "    preds_temp_oos = regressor_tree_temp.predict(X_test)\n",
    "    r2_is.append(r2_score(y_train, preds_temp_is))\n",
    "    r2_os.append(r2_score(y_test, preds_temp_oos))"
   ]
  },
  {
   "cell_type": "code",
   "execution_count": 142,
   "metadata": {},
   "outputs": [
    {
     "data": {
      "text/plain": [
       "<matplotlib.legend.Legend at 0x7fef090a5a10>"
      ]
     },
     "execution_count": 142,
     "metadata": {},
     "output_type": "execute_result"
    },
    {
     "data": {
      "image/png": "[encoded data removed]",
      "text/plain": [
       "<Figure size 864x720 with 1 Axes>"
      ]
     },
     "metadata": {
      "needs_background": "light"
     },
     "output_type": "display_data"
    }
   ],
   "source": [
    "plt.figure(figsize = (12, 10))\n",
    "plt.plot(mx_depth, r2_is, c= \"black\", label = \"r2_in_sample\")\n",
    "plt.plot(mx_depth, r2_os, c= \"b\", label = \"r2_out_of_sample\")\n",
    "plt.title(\"R-Squared In and Out of Sample vs Depth of Tree\")\n",
    "plt.xlabel(\"Depth\")\n",
    "plt.ylabel(\"R-Squared\")\n",
    "plt.legend()"
   ]
  },
  {
   "cell_type": "code",
   "execution_count": 143,
   "metadata": {},
   "outputs": [],
   "source": [
    "# Number of trees in random forest\n",
    "n_estimators = list(range(10, 200, 10))\n",
    "# Number of features to consider at every split\n",
    "max_features = ['auto', 'sqrt']\n",
    "# Maximum number of levels in tree\n",
    "max_depth = list(range(1, 60))\n",
    "# Minimum number of samples required to split a node\n",
    "min_samples_split = [2, 5, 10]\n",
    "# Minimum number of samples required at each leaf node\n",
    "min_samples_leaf = [1, 2, 4]\n",
    "# Method of selecting samples for training each tree\n",
    "bootstrap = [True, False]\n"
   ]
  },
  {
   "cell_type": "code",
   "execution_count": 144,
   "metadata": {},
   "outputs": [
    {
     "data": {
      "text/plain": [
       "5"
      ]
     },
     "execution_count": 144,
     "metadata": {},
     "output_type": "execute_result"
    }
   ],
   "source": [
    "mx_depth[np.argmax(r2_os)]"
   ]
  },
  {
   "cell_type": "code",
   "execution_count": 145,
   "metadata": {},
   "outputs": [],
   "source": [
    "tree0 = DecisionTreeRegressor(random_state=35)"
   ]
  },
  {
   "cell_type": "code",
   "execution_count": 146,
   "metadata": {},
   "outputs": [],
   "source": [
    "# Create the random grid\n",
    "random_grid0 = {'max_features': max_features,\n",
    "               'max_depth': max_depth,\n",
    "               'min_samples_split': [5, 10, 15, 20],\n",
    "               'min_samples_leaf': min_samples_leaf,}"
   ]
  },
  {
   "cell_type": "code",
   "execution_count": 147,
   "metadata": {},
   "outputs": [],
   "source": [
    "tree_random = RandomizedSearchCV(estimator = tree0, param_distributions = random_grid0, \n",
    "                               n_iter = 100, cv = 5, verbose=2, random_state=42, n_jobs = -1)"
   ]
  },
  {
   "cell_type": "code",
   "execution_count": 148,
   "metadata": {},
   "outputs": [
    {
     "name": "stdout",
     "output_type": "stream",
     "text": [
      "Fitting 5 folds for each of 100 candidates, totalling 500 fits\n"
     ]
    },
    {
     "name": "stderr",
     "output_type": "stream",
     "text": [
      "[Parallel(n_jobs=-1)]: Using backend LokyBackend with 16 concurrent workers.\n",
      "[Parallel(n_jobs=-1)]: Done   9 tasks      | elapsed:    3.5s\n",
      "[Parallel(n_jobs=-1)]: Done 218 out of 500 | elapsed:    4.0s remaining:    5.2s\n",
      "[Parallel(n_jobs=-1)]: Done 500 out of 500 | elapsed:    4.3s finished\n"
     ]
    },
    {
     "data": {
      "text/plain": [
       "RandomizedSearchCV(cv=5, error_score='raise-deprecating',\n",
       "                   estimator=DecisionTreeRegressor(criterion='mse',\n",
       "                                                   max_depth=None,\n",
       "                                                   max_features=None,\n",
       "                                                   max_leaf_nodes=None,\n",
       "                                                   min_impurity_decrease=0.0,\n",
       "                                                   min_impurity_split=None,\n",
       "                                                   min_samples_leaf=1,\n",
       "                                                   min_samples_split=2,\n",
       "                                                   min_weight_fraction_leaf=0.0,\n",
       "                                                   presort=False,\n",
       "                                                   random_state=35,\n",
       "                                                   splitter='best'),\n",
       "                   iid='warn', n_iter=100, n_jobs=-1,\n",
       "                   param_distributions={'max_depth': [1, 2, 3, 4, 5, 6, 7, 8, 9,\n",
       "                                                      10, 11, 12, 13, 14, 15,\n",
       "                                                      16, 17, 18, 19, 20, 21,\n",
       "                                                      22, 23, 24, 25, 26, 27,\n",
       "                                                      28, 29, 30, ...],\n",
       "                                        'max_features': ['auto', 'sqrt'],\n",
       "                                        'min_samples_leaf': [1, 2, 4],\n",
       "                                        'min_samples_split': [5, 10, 15, 20]},\n",
       "                   pre_dispatch='2*n_jobs', random_state=42, refit=True,\n",
       "                   return_train_score=False, scoring=None, verbose=2)"
      ]
     },
     "execution_count": 148,
     "metadata": {},
     "output_type": "execute_result"
    }
   ],
   "source": [
    "tree_random.fit(X_train, y_train)"
   ]
  },
  {
   "cell_type": "code",
   "execution_count": 149,
   "metadata": {},
   "outputs": [
    {
     "data": {
      "text/plain": [
       "{'min_samples_split': 20,\n",
       " 'min_samples_leaf': 1,\n",
       " 'max_features': 'auto',\n",
       " 'max_depth': 6}"
      ]
     },
     "execution_count": 149,
     "metadata": {},
     "output_type": "execute_result"
    }
   ],
   "source": [
    "tree_random.best_params_"
   ]
  },
  {
   "cell_type": "code",
   "execution_count": 150,
   "metadata": {},
   "outputs": [
    {
     "name": "stdout",
     "output_type": "stream",
     "text": [
      "R2 in sample is 0.7537416954175881\n",
      "R2 out of sample is 0.6509320277725539\n",
      "MSE in sample is 8008224.607930819\n",
      "MSE out of sample is 12106255.681165371\n",
      "MAE in sample is 1538.4320286531579\n",
      "MAE out of sample is 1836.9187187171487\n"
     ]
    }
   ],
   "source": [
    "metrics(tree_random, X_train, X_test, y_train, y_test)"
   ]
  },
  {
   "cell_type": "code",
   "execution_count": 169,
   "metadata": {},
   "outputs": [
    {
     "data": {
      "text/plain": [
       "[Text(200.68977272727273, 201.90857142857143, 'X[1] <= 0.77\\nmse = 32519612.37\\nsamples = 2000\\nvalue = 5762.042'),\n",
       " Text(115.0875, 170.84571428571428, 'X[1] <= 0.123\\nmse = 11835314.794\\nsamples = 1498\\nvalue = 3660.758'),\n",
       " Text(60.872727272727275, 139.78285714285715, 'X[3] <= 4.989\\nmse = 5821429.413\\nsamples = 866\\nvalue = 2314.987'),\n",
       " Text(30.436363636363637, 108.72, 'X[9] <= 0.5\\nmse = 2548338.199\\nsamples = 457\\nvalue = 1516.094'),\n",
       " Text(15.218181818181819, 77.65714285714284, 'X[1] <= 0.053\\nmse = 1983837.003\\nsamples = 226\\nvalue = 1161.477'),\n",
       " Text(7.609090909090909, 46.59428571428572, 'X[4] <= 46.5\\nmse = 1728407.088\\nsamples = 199\\nvalue = 1006.842'),\n",
       " Text(3.8045454545454547, 15.531428571428563, 'mse = 12715715.908\\nsamples = 5\\nvalue = 3783.833'),\n",
       " Text(11.413636363636364, 15.531428571428563, 'mse = 1241351.905\\nsamples = 194\\nvalue = 935.27'),\n",
       " Text(22.827272727272728, 46.59428571428572, 'X[4] <= 98.0\\nmse = 2391243.878\\nsamples = 27\\nvalue = 2301.199'),\n",
       " Text(19.022727272727273, 15.531428571428563, 'mse = 1487037.271\\nsamples = 11\\nvalue = 1349.655'),\n",
       " Text(26.631818181818183, 15.531428571428563, 'mse = 1962440.406\\nsamples = 16\\nvalue = 2955.385'),\n",
       " Text(45.654545454545456, 77.65714285714284, 'X[3] <= 1.932\\nmse = 2857222.218\\nsamples = 231\\nvalue = 1863.034'),\n",
       " Text(38.04545454545455, 46.59428571428572, 'X[26] <= 0.5\\nmse = 1084371.466\\nsamples = 93\\nvalue = 1426.5'),\n",
       " Text(34.24090909090909, 15.531428571428563, 'mse = 1075943.775\\nsamples = 75\\nvalue = 1259.692'),\n",
       " Text(41.85, 15.531428571428563, 'mse = 520472.644\\nsamples = 18\\nvalue = 2121.537'),\n",
       " Text(53.263636363636365, 46.59428571428572, 'X[25] <= 6.5\\nmse = 3837002.149\\nsamples = 138\\nvalue = 2157.22'),\n",
       " Text(49.45909090909091, 15.531428571428563, 'mse = 3269268.176\\nsamples = 123\\nvalue = 1994.97'),\n",
       " Text(57.06818181818182, 15.531428571428563, 'mse = 6506467.804\\nsamples = 15\\nvalue = 3487.667'),\n",
       " Text(91.30909090909091, 108.72, 'X[28] <= 0.5\\nmse = 7968688.854\\nsamples = 409\\nvalue = 3207.639'),\n",
       " Text(76.0909090909091, 77.65714285714284, 'X[9] <= 0.5\\nmse = 6009498.199\\nsamples = 317\\nvalue = 2754.769'),\n",
       " Text(68.48181818181818, 46.59428571428572, 'X[1] <= 0.045\\nmse = 2076155.75\\nsamples = 69\\nvalue = 1694.997'),\n",
       " Text(64.67727272727274, 15.531428571428563, 'mse = 1800632.436\\nsamples = 55\\nvalue = 1472.704'),\n",
       " Text(72.28636363636363, 15.531428571428563, 'mse = 2201803.448\\nsamples = 14\\nvalue = 2568.289'),\n",
       " Text(83.7, 46.59428571428572, 'X[0] <= 0.5\\nmse = 6704435.41\\nsamples = 248\\nvalue = 3049.625'),\n",
       " Text(79.89545454545456, 15.531428571428563, 'mse = 11971534.853\\nsamples = 49\\nvalue = 4136.02'),\n",
       " Text(87.50454545454545, 15.531428571428563, 'mse = 5045337.67\\nsamples = 199\\nvalue = 2782.121'),\n",
       " Text(106.52727272727273, 77.65714285714284, 'X[20] <= 0.5\\nmse = 11577762.21\\nsamples = 92\\nvalue = 4768.069'),\n",
       " Text(98.91818181818182, 46.59428571428572, 'X[18] <= 3.0\\nmse = 6728741.839\\nsamples = 36\\nvalue = 3158.782'),\n",
       " Text(95.11363636363637, 15.531428571428563, 'mse = 5014661.217\\nsamples = 35\\nvalue = 2928.666'),\n",
       " Text(102.72272727272727, 15.531428571428563, 'mse = 0.0\\nsamples = 1\\nvalue = 11212.861'),\n",
       " Text(114.13636363636364, 46.59428571428572, 'X[24] <= 6.5\\nmse = 11959838.477\\nsamples = 56\\nvalue = 5802.611'),\n",
       " Text(110.33181818181819, 15.531428571428563, 'mse = 6222816.629\\nsamples = 14\\nvalue = 3541.187'),\n",
       " Text(117.94090909090909, 15.531428571428563, 'mse = 11599273.148\\nsamples = 42\\nvalue = 6556.419'),\n",
       " Text(169.30227272727274, 139.78285714285715, 'X[3] <= 7.016\\nmse = 14193689.658\\nsamples = 632\\nvalue = 5504.804'),\n",
       " Text(142.67045454545456, 108.72, 'X[3] <= 3.856\\nmse = 8018592.412\\nsamples = 272\\nvalue = 3930.658'),\n",
       " Text(133.1590909090909, 77.65714285714284, 'X[4] <= 131.5\\nmse = 5462737.782\\nsamples = 97\\nvalue = 2773.646'),\n",
       " Text(129.35454545454547, 46.59428571428572, 'X[8] <= 0.068\\nmse = 4544833.613\\nsamples = 80\\nvalue = 2388.068'),\n",
       " Text(125.55000000000001, 15.531428571428563, 'mse = 3887102.236\\nsamples = 73\\nvalue = 2183.825'),\n",
       " Text(133.1590909090909, 15.531428571428563, 'mse = 6432263.731\\nsamples = 7\\nvalue = 4518.03'),\n",
       " Text(136.96363636363637, 46.59428571428572, 'mse = 5790308.921\\nsamples = 17\\nvalue = 4588.13'),\n",
       " Text(152.1818181818182, 77.65714285714284, 'X[0] <= 0.5\\nmse = 8281971.389\\nsamples = 175\\nvalue = 4571.973'),\n",
       " Text(144.57272727272726, 46.59428571428572, 'X[8] <= -0.059\\nmse = 12950593.591\\nsamples = 34\\nvalue = 6278.295'),\n",
       " Text(140.76818181818183, 15.531428571428563, 'mse = 11011402.548\\nsamples = 3\\nvalue = 14516.961'),\n",
       " Text(148.37727272727273, 15.531428571428563, 'mse = 5933977.725\\nsamples = 31\\nvalue = 5481.005'),\n",
       " Text(159.7909090909091, 46.59428571428572, 'X[1] <= 0.365\\nmse = 6284838.152\\nsamples = 141\\nvalue = 4160.52'),\n",
       " Text(155.98636363636365, 15.531428571428563, 'mse = 5257875.117\\nsamples = 79\\nvalue = 3468.025'),\n",
       " Text(163.59545454545454, 15.531428571428563, 'mse = 6203770.764\\nsamples = 62\\nvalue = 5042.891'),\n",
       " Text(195.9340909090909, 108.72, 'X[0] <= 0.5\\nmse = 15572534.065\\nsamples = 360\\nvalue = 6694.159'),\n",
       " Text(182.61818181818182, 77.65714285714284, 'X[4] <= 109.0\\nmse = 12379460.602\\nsamples = 89\\nvalue = 8743.424'),\n",
       " Text(175.0090909090909, 46.59428571428572, 'X[7] <= 0.5\\nmse = 9765599.149\\nsamples = 64\\nvalue = 8010.809'),\n",
       " Text(171.20454545454547, 15.531428571428563, 'mse = 9215746.181\\nsamples = 56\\nvalue = 7588.856'),\n",
       " Text(178.81363636363636, 15.531428571428563, 'mse = 3644081.128\\nsamples = 8\\nvalue = 10964.481'),\n",
       " Text(190.22727272727275, 46.59428571428572, 'X[2] <= 0.5\\nmse = 14179450.063\\nsamples = 25\\nvalue = 10618.919'),\n",
       " Text(186.4227272727273, 15.531428571428563, 'mse = 6766123.955\\nsamples = 16\\nvalue = 9184.481'),\n",
       " Text(194.03181818181818, 15.531428571428563, 'mse = 17197646.015\\nsamples = 9\\nvalue = 13169.031'),\n",
       " Text(209.25, 77.65714285714284, 'X[3] <= 19.407\\nmse = 14789077.92\\nsamples = 271\\nvalue = 6021.154'),\n",
       " Text(205.44545454545454, 46.59428571428572, 'X[1] <= 0.346\\nmse = 13348253.084\\nsamples = 266\\nvalue = 5869.062'),\n",
       " Text(201.6409090909091, 15.531428571428563, 'mse = 11376876.129\\nsamples = 116\\nvalue = 4791.398'),\n",
       " Text(209.25, 15.531428571428563, 'mse = 13280121.056\\nsamples = 150\\nvalue = 6702.456'),\n",
       " Text(213.05454545454546, 46.59428571428572, 'mse = 24741810.609\\nsamples = 5\\nvalue = 14112.417'),\n",
       " Text(286.2920454545455, 170.84571428571428, 'X[1] <= 2.728\\nmse = 41749570.401\\nsamples = 502\\nvalue = 12032.408'),\n",
       " Text(253.00227272727273, 139.78285714285715, 'X[0] <= 0.5\\nmse = 23076575.556\\nsamples = 419\\nvalue = 10384.607'),\n",
       " Text(232.07727272727274, 108.72, 'X[3] <= 14.394\\nmse = 30216367.204\\nsamples = 102\\nvalue = 13278.856'),\n",
       " Text(224.46818181818182, 77.65714285714284, 'X[26] <= 9.5\\nmse = 22121390.533\\nsamples = 78\\nvalue = 11904.135'),\n",
       " Text(220.66363636363639, 46.59428571428572, 'X[1] <= 2.228\\nmse = 17940637.712\\nsamples = 77\\nvalue = 11664.797'),\n",
       " Text(216.85909090909092, 15.531428571428563, 'mse = 12495972.521\\nsamples = 68\\nvalue = 10967.094'),\n",
       " Text(224.46818181818182, 15.531428571428563, 'mse = 27611010.526\\nsamples = 9\\nvalue = 16936.336'),\n",
       " Text(228.27272727272728, 46.59428571428572, 'mse = 0.0\\nsamples = 1\\nvalue = 30333.15'),\n",
       " Text(239.68636363636364, 77.65714285714284, 'X[6] <= 0.5\\nmse = 30421369.016\\nsamples = 24\\nvalue = 17746.701'),\n",
       " Text(235.88181818181818, 46.59428571428572, 'mse = 7022536.467\\nsamples = 9\\nvalue = 14223.824'),\n",
       " Text(243.4909090909091, 46.59428571428572, 'mse = 32546432.263\\nsamples = 15\\nvalue = 19860.427'),\n",
       " Text(273.92727272727274, 108.72, 'X[1] <= 1.593\\nmse = 17216624.509\\nsamples = 317\\nvalue = 9453.334'),\n",
       " Text(258.70909090909095, 77.65714285714284, 'X[3] <= 6.328\\nmse = 14176615.921\\nsamples = 198\\nvalue = 8274.033'),\n",
       " Text(251.10000000000002, 46.59428571428572, 'X[9] <= 0.5\\nmse = 12417363.051\\nsamples = 37\\nvalue = 5844.419'),\n",
       " Text(247.29545454545456, 15.531428571428563, 'mse = 2170240.693\\nsamples = 2\\nvalue = 18155.5'),\n",
       " Text(254.90454545454546, 15.531428571428563, 'mse = 3847288.52\\nsamples = 35\\nvalue = 5140.929'),\n",
       " Text(266.3181818181818, 46.59428571428572, 'X[4] <= 112.5\\nmse = 12912556.473\\nsamples = 161\\nvalue = 8832.392'),\n",
       " Text(262.51363636363635, 15.531428571428563, 'mse = 8983348.661\\nsamples = 86\\nvalue = 7962.46'),\n",
       " Text(270.1227272727273, 15.531428571428563, 'mse = 15555221.524\\nsamples = 75\\nvalue = 9829.914'),\n",
       " Text(289.1454545454545, 77.65714285714284, 'X[3] <= 7.344\\nmse = 16110548.089\\nsamples = 119\\nvalue = 11415.532'),\n",
       " Text(281.53636363636366, 46.59428571428572, 'X[2] <= 0.5\\nmse = 10532848.949\\nsamples = 20\\nvalue = 8047.759'),\n",
       " Text(277.7318181818182, 15.531428571428563, 'mse = 7260120.169\\nsamples = 13\\nvalue = 6730.525'),\n",
       " Text(285.3409090909091, 15.531428571428563, 'mse = 7404092.821\\nsamples = 7\\nvalue = 10494.05'),\n",
       " Text(296.75454545454545, 46.59428571428572, 'X[25] <= 3.5\\nmse = 14483176.635\\nsamples = 99\\nvalue = 12095.89'),\n",
       " Text(292.95, 15.531428571428563, 'mse = 10242152.306\\nsamples = 36\\nvalue = 10534.485'),\n",
       " Text(300.5590909090909, 15.531428571428563, 'mse = 14717407.778\\nsamples = 63\\nvalue = 12988.121'),\n",
       " Text(319.5818181818182, 139.78285714285715, 'X[3] <= 22.681\\nmse = 53111308.226\\nsamples = 83\\nvalue = 20350.824'),\n",
       " Text(315.77727272727276, 108.72, 'X[0] <= 0.5\\nmse = 38284398.616\\nsamples = 66\\nvalue = 18398.874'),\n",
       " Text(308.16818181818184, 77.65714285714284, 'X[24] <= 15.5\\nmse = 27676700.778\\nsamples = 31\\nvalue = 21411.621'),\n",
       " Text(304.3636363636364, 46.59428571428572, 'mse = 11144515.309\\nsamples = 14\\nvalue = 17784.751'),\n",
       " Text(311.9727272727273, 46.59428571428572, 'mse = 21537405.288\\nsamples = 17\\nvalue = 24398.455'),\n",
       " Text(323.3863636363636, 77.65714285714284, 'X[3] <= 9.782\\nmse = 32519942.739\\nsamples = 35\\nvalue = 15730.441'),\n",
       " Text(319.5818181818182, 46.59428571428572, 'mse = 6612427.746\\nsamples = 9\\nvalue = 10369.401'),\n",
       " Text(327.1909090909091, 46.59428571428572, 'X[4] <= 102.0\\nmse = 28095420.506\\nsamples = 26\\nvalue = 17586.186'),\n",
       " Text(323.3863636363636, 15.531428571428563, 'mse = 15561668.607\\nsamples = 9\\nvalue = 21579.786'),\n",
       " Text(330.99545454545455, 15.531428571428563, 'mse = 21817338.147\\nsamples = 17\\nvalue = 15471.927'),\n",
       " Text(323.3863636363636, 108.72, 'mse = 38453955.064\\nsamples = 17\\nvalue = 27928.981')]"
      ]
     },
     "execution_count": 169,
     "metadata": {},
     "output_type": "execute_result"
    },
    {
     "data": {
      "image/png": "[encoded data removed]",
      "text/plain": [
       "<Figure size 432x288 with 1 Axes>"
      ]
     },
     "metadata": {
      "needs_background": "light"
     },
     "output_type": "display_data"
    }
   ],
   "source": [
    "tree.plot_tree(tree_random.best_estimator_)"
   ]
  },
  {
   "cell_type": "markdown",
   "metadata": {},
   "source": [
    "Deicision trees don't perform very well out of sample, in sample they can perform amazingly but not out of sample."
   ]
  },
  {
   "cell_type": "markdown",
   "metadata": {},
   "source": [
    "### Random Forest"
   ]
  },
  {
   "cell_type": "code",
   "execution_count": 23,
   "metadata": {},
   "outputs": [],
   "source": [
    "from sklearn.ensemble import RandomForestRegressor\n",
    "from sklearn.model_selection import RandomizedSearchCV"
   ]
  },
  {
   "cell_type": "code",
   "execution_count": 48,
   "metadata": {},
   "outputs": [],
   "source": [
    "# Create the random grid\n",
    "random_grid = {'n_estimators': n_estimators,\n",
    "               'max_features': max_features,\n",
    "               'max_depth': max_depth,\n",
    "               'min_samples_split': min_samples_split,\n",
    "               'min_samples_leaf': min_samples_leaf,\n",
    "               'bootstrap': bootstrap}"
   ]
  },
  {
   "cell_type": "code",
   "execution_count": 49,
   "metadata": {},
   "outputs": [],
   "source": [
    "rf_reg = RandomForestRegressor(random_state=0)"
   ]
  },
  {
   "cell_type": "code",
   "execution_count": 80,
   "metadata": {},
   "outputs": [],
   "source": [
    "rf_random = RandomizedSearchCV(estimator = rf_reg, param_distributions = random_grid, \n",
    "                               n_iter = 100, cv = 5, verbose=2, random_state=42, n_jobs = -1)"
   ]
  },
  {
   "cell_type": "code",
   "execution_count": 81,
   "metadata": {},
   "outputs": [
    {
     "name": "stdout",
     "output_type": "stream",
     "text": [
      "Fitting 5 folds for each of 100 candidates, totalling 500 fits\n"
     ]
    },
    {
     "name": "stderr",
     "output_type": "stream",
     "text": [
      "[Parallel(n_jobs=-1)]: Using backend LokyBackend with 16 concurrent workers.\n",
      "[Parallel(n_jobs=-1)]: Done   9 tasks      | elapsed:    3.4s\n",
      "[Parallel(n_jobs=-1)]: Done 130 tasks      | elapsed:   10.4s\n",
      "[Parallel(n_jobs=-1)]: Done 333 tasks      | elapsed:   21.1s\n",
      "[Parallel(n_jobs=-1)]: Done 500 out of 500 | elapsed:   32.2s finished\n"
     ]
    },
    {
     "data": {
      "text/plain": [
       "RandomizedSearchCV(cv=5, error_score='raise-deprecating',\n",
       "                   estimator=RandomForestRegressor(bootstrap=True,\n",
       "                                                   criterion='mse',\n",
       "                                                   max_depth=None,\n",
       "                                                   max_features='auto',\n",
       "                                                   max_leaf_nodes=None,\n",
       "                                                   min_impurity_decrease=0.0,\n",
       "                                                   min_impurity_split=None,\n",
       "                                                   min_samples_leaf=1,\n",
       "                                                   min_samples_split=2,\n",
       "                                                   min_weight_fraction_leaf=0.0,\n",
       "                                                   n_estimators='warn',\n",
       "                                                   n_jobs=None, oob_score=False,\n",
       "                                                   random_sta...\n",
       "                                        'max_depth': [1, 2, 3, 4, 5, 6, 7, 8, 9,\n",
       "                                                      10, 11, 12, 13, 14, 15,\n",
       "                                                      16, 17, 18, 19, 20, 21,\n",
       "                                                      22, 23, 24, 25, 26, 27,\n",
       "                                                      28, 29, 30, ...],\n",
       "                                        'max_features': ['auto', 'sqrt'],\n",
       "                                        'min_samples_leaf': [1, 2, 4],\n",
       "                                        'min_samples_split': [2, 5, 10],\n",
       "                                        'n_estimators': [10, 20, 30, 40, 50, 60,\n",
       "                                                         70, 80, 90, 100, 110,\n",
       "                                                         120, 130, 140, 150,\n",
       "                                                         160, 170, 180, 190]},\n",
       "                   pre_dispatch='2*n_jobs', random_state=42, refit=True,\n",
       "                   return_train_score=False, scoring=None, verbose=2)"
      ]
     },
     "execution_count": 81,
     "metadata": {},
     "output_type": "execute_result"
    }
   ],
   "source": [
    "rf_random.fit(X_train, y_train)"
   ]
  },
  {
   "cell_type": "code",
   "execution_count": 82,
   "metadata": {},
   "outputs": [
    {
     "data": {
      "text/plain": [
       "{'n_estimators': 120,\n",
       " 'min_samples_split': 5,\n",
       " 'min_samples_leaf': 2,\n",
       " 'max_features': 'sqrt',\n",
       " 'max_depth': 50,\n",
       " 'bootstrap': False}"
      ]
     },
     "execution_count": 82,
     "metadata": {},
     "output_type": "execute_result"
    }
   ],
   "source": [
    "rf_random.best_params_"
   ]
  },
  {
   "cell_type": "code",
   "execution_count": 83,
   "metadata": {},
   "outputs": [
    {
     "name": "stdout",
     "output_type": "stream",
     "text": [
      "R2 in sample is 0.9707238709729297\n",
      "R2 out of sample is 0.6888149627978262\n",
      "MSE in sample is 952048.3676564982\n",
      "MSE out of sample is 10792412.722608022\n",
      "MAE in sample is 460.8773979526916\n",
      "MAE out of sample is 1772.263167662567\n"
     ]
    }
   ],
   "source": [
    "metrics(rf_random, X_train, X_test, y_train, y_test)"
   ]
  },
  {
   "cell_type": "markdown",
   "metadata": {},
   "source": [
    "### Gradient Boosting"
   ]
  },
  {
   "cell_type": "code",
   "execution_count": 41,
   "metadata": {},
   "outputs": [],
   "source": [
    "from sklearn.ensemble import GradientBoostingRegressor"
   ]
  },
  {
   "cell_type": "code",
   "execution_count": 74,
   "metadata": {},
   "outputs": [],
   "source": [
    "random_grid2 = {'n_estimators': n_estimators,\n",
    "               'max_features': max_features,\n",
    "               'max_depth': max_depth,\n",
    "               'min_samples_split': min_samples_split,\n",
    "               'min_samples_leaf': min_samples_leaf}\n",
    "    \n",
    "               #'learning_rate':[0.15,0.1,0.05,0.01,0.005,0.001]}"
   ]
  },
  {
   "cell_type": "code",
   "execution_count": 75,
   "metadata": {},
   "outputs": [],
   "source": [
    "gbm_reg = GradientBoostingRegressor(random_state=0, learning_rate = 0.05)"
   ]
  },
  {
   "cell_type": "code",
   "execution_count": 76,
   "metadata": {},
   "outputs": [],
   "source": [
    "gbm_random = RandomizedSearchCV(estimator = gbm_reg, param_distributions = random_grid2, \n",
    "                               n_iter = 100, cv = 5, verbose=2, random_state=42, n_jobs = -1)"
   ]
  },
  {
   "cell_type": "code",
   "execution_count": 77,
   "metadata": {},
   "outputs": [
    {
     "name": "stdout",
     "output_type": "stream",
     "text": [
      "Fitting 5 folds for each of 100 candidates, totalling 500 fits\n"
     ]
    },
    {
     "name": "stderr",
     "output_type": "stream",
     "text": [
      "[Parallel(n_jobs=-1)]: Using backend LokyBackend with 16 concurrent workers.\n",
      "[Parallel(n_jobs=-1)]: Done   9 tasks      | elapsed:    1.0s\n",
      "[Parallel(n_jobs=-1)]: Done 154 tasks      | elapsed:   19.4s\n",
      "[Parallel(n_jobs=-1)]: Done 358 tasks      | elapsed:   55.1s\n",
      "[Parallel(n_jobs=-1)]: Done 500 out of 500 | elapsed:  1.5min finished\n"
     ]
    },
    {
     "data": {
      "text/plain": [
       "RandomizedSearchCV(cv=5, error_score='raise-deprecating',\n",
       "                   estimator=GradientBoostingRegressor(alpha=0.9,\n",
       "                                                       criterion='friedman_mse',\n",
       "                                                       init=None,\n",
       "                                                       learning_rate=0.05,\n",
       "                                                       loss='ls', max_depth=3,\n",
       "                                                       max_features=None,\n",
       "                                                       max_leaf_nodes=None,\n",
       "                                                       min_impurity_decrease=0.0,\n",
       "                                                       min_impurity_split=None,\n",
       "                                                       min_samples_leaf=1,\n",
       "                                                       min_samples_split=2,\n",
       "                                                       min_weight_fraction_leaf=0.0,\n",
       "                                                       n_estimators=100...\n",
       "                   param_distributions={'max_depth': [1, 2, 3, 4, 5, 6, 7, 8, 9,\n",
       "                                                      10, 11, 12, 13, 14, 15,\n",
       "                                                      16, 17, 18, 19, 20, 21,\n",
       "                                                      22, 23, 24, 25, 26, 27,\n",
       "                                                      28, 29, 30, ...],\n",
       "                                        'max_features': ['auto', 'sqrt'],\n",
       "                                        'min_samples_leaf': [1, 2, 4],\n",
       "                                        'min_samples_split': [2, 5, 10],\n",
       "                                        'n_estimators': [10, 20, 30, 40, 50, 60,\n",
       "                                                         70, 80, 90, 100, 110,\n",
       "                                                         120, 130, 140, 150,\n",
       "                                                         160, 170, 180, 190]},\n",
       "                   pre_dispatch='2*n_jobs', random_state=42, refit=True,\n",
       "                   return_train_score=False, scoring=None, verbose=2)"
      ]
     },
     "execution_count": 77,
     "metadata": {},
     "output_type": "execute_result"
    }
   ],
   "source": [
    "gbm_random.fit(X_train, y_train)"
   ]
  },
  {
   "cell_type": "code",
   "execution_count": 78,
   "metadata": {},
   "outputs": [
    {
     "data": {
      "text/plain": [
       "{'n_estimators': 140,\n",
       " 'min_samples_split': 2,\n",
       " 'min_samples_leaf': 2,\n",
       " 'max_features': 'sqrt',\n",
       " 'max_depth': 4}"
      ]
     },
     "execution_count": 78,
     "metadata": {},
     "output_type": "execute_result"
    }
   ],
   "source": [
    "gbm_random.best_params_"
   ]
  },
  {
   "cell_type": "raw",
   "metadata": {},
   "source": [
    "gbm_reg3 = GradientBoostingRegressor(random_state=0, learning_rate = 0.05, n_estimators = 190, min_samples_split = 2,\n",
    "                                   min_samples_leaf = 1, max_features = 'sqrt', max_depth = 6)"
   ]
  },
  {
   "cell_type": "raw",
   "metadata": {},
   "source": [
    "gbm_reg3.fit(X_train, y_train)"
   ]
  },
  {
   "cell_type": "code",
   "execution_count": 79,
   "metadata": {},
   "outputs": [
    {
     "name": "stdout",
     "output_type": "stream",
     "text": [
      "R2 in sample is 0.8209224058011052\n",
      "R2 out of sample is 0.7112981858987214\n",
      "MSE in sample is 5823533.947512863\n",
      "MSE out of sample is 10012657.290852834\n",
      "MAE in sample is 1408.647112082684\n",
      "MAE out of sample is 1747.7458444796553\n"
     ]
    }
   ],
   "source": [
    "metrics(gbm_random, X_train, X_test, y_train, y_test)"
   ]
  },
  {
   "cell_type": "code",
   "execution_count": null,
   "metadata": {},
   "outputs": [],
   "source": []
  },
  {
   "cell_type": "markdown",
   "metadata": {},
   "source": [
    "# Neural Network"
   ]
  },
  {
   "cell_type": "code",
   "execution_count": 84,
   "metadata": {},
   "outputs": [],
   "source": [
    "from IPython.display import SVG\n",
    "from keras.utils.vis_utils import model_to_dot\n",
    "\n",
    "def plot_model_in_notebook(model):\n",
    "    return SVG(model_to_dot(model, show_shapes=True).create(prog='dot', format='svg'))\n",
    "\n",
    "\n",
    "from sklearn.preprocessing import normalize"
   ]
  },
  {
   "cell_type": "code",
   "execution_count": 100,
   "metadata": {},
   "outputs": [],
   "source": [
    "X_train1 = pd.concat([X_train.drop(\"budget\", axis = 1)/X_train.drop(\"budget\", axis = 1).std(), X_train[\"budget\"]], axis = 1)\n",
    "X_test1 = pd.concat([X_test.drop(\"budget\", axis = 1)/X_test.drop(\"budget\", axis = 1).std(), X_test[\"budget\"]], axis = 1)\n"
   ]
  },
  {
   "cell_type": "code",
   "execution_count": 101,
   "metadata": {},
   "outputs": [],
   "source": [
    "X_train1 = pd.DataFrame(X_train1/X_train1.max(axis = 0))\n",
    "X_test1 = pd.DataFrame(X_test1/X_test1.max(axis = 0))\n",
    "y_train1 = y_train1/y_train1.max(axis = 0)\n",
    "y_test1= y_test1/y_test1.max(axis = 0)"
   ]
  },
  {
   "cell_type": "code",
   "execution_count": 120,
   "metadata": {},
   "outputs": [],
   "source": [
    "K.clear_session()\n",
    "\n",
    "\n",
    "digit_input = Input(shape=(X_train.shape[1],), name='digit_input')\n",
    "\n",
    "\n",
    "\n",
    "x = Dense(25, activation='tanh')(digit_input)\n",
    "xx = Dense(15, activation='tanh')(x)\n",
    "#z = Dense(5, activation='tanh')(xx)\n",
    "y = Dropout(0.35)(xx)\n",
    "\n",
    "output = Dense(1, activation = 'linear')(y)\n",
    "model = Model(digit_input, output)\n",
    "model.compile(optimizer = 'adam', loss='MSE',  metrics=['MSE'])\n"
   ]
  },
  {
   "cell_type": "code",
   "execution_count": 170,
   "metadata": {},
   "outputs": [],
   "source": [
    "#plot_model_in_notebook(model)"
   ]
  },
  {
   "cell_type": "code",
   "execution_count": 122,
   "metadata": {},
   "outputs": [
    {
     "name": "stdout",
     "output_type": "stream",
     "text": [
      "Epoch 1/50\n",
      "2000/2000 [==============================] - 0s 73us/step - loss: 0.0585 - MSE: 0.0585\n",
      "Epoch 2/50\n",
      "2000/2000 [==============================] - 0s 8us/step - loss: 0.0357 - MSE: 0.0357\n",
      "Epoch 3/50\n",
      "2000/2000 [==============================] - 0s 8us/step - loss: 0.0278 - MSE: 0.0278\n",
      "Epoch 4/50\n",
      "2000/2000 [==============================] - 0s 8us/step - loss: 0.0211 - MSE: 0.0211\n",
      "Epoch 5/50\n",
      "2000/2000 [==============================] - 0s 8us/step - loss: 0.0193 - MSE: 0.0193\n",
      "Epoch 6/50\n",
      "2000/2000 [==============================] - 0s 8us/step - loss: 0.0169 - MSE: 0.0169\n",
      "Epoch 7/50\n",
      "2000/2000 [==============================] - 0s 7us/step - loss: 0.0165 - MSE: 0.0165\n",
      "Epoch 8/50\n",
      "2000/2000 [==============================] - 0s 7us/step - loss: 0.0144 - MSE: 0.0144\n",
      "Epoch 9/50\n",
      "2000/2000 [==============================] - 0s 7us/step - loss: 0.0142 - MSE: 0.0142\n",
      "Epoch 10/50\n",
      "2000/2000 [==============================] - 0s 8us/step - loss: 0.0131 - MSE: 0.0131\n",
      "Epoch 11/50\n",
      "2000/2000 [==============================] - 0s 7us/step - loss: 0.0121 - MSE: 0.0121\n",
      "Epoch 12/50\n",
      "2000/2000 [==============================] - 0s 7us/step - loss: 0.0113 - MSE: 0.0113\n",
      "Epoch 13/50\n",
      "2000/2000 [==============================] - 0s 7us/step - loss: 0.0116 - MSE: 0.0116\n",
      "Epoch 14/50\n",
      "2000/2000 [==============================] - 0s 8us/step - loss: 0.0107 - MSE: 0.0107\n",
      "Epoch 15/50\n",
      "2000/2000 [==============================] - 0s 7us/step - loss: 0.0105 - MSE: 0.0105\n",
      "Epoch 16/50\n",
      "2000/2000 [==============================] - 0s 7us/step - loss: 0.0102 - MSE: 0.0102\n",
      "Epoch 17/50\n",
      "2000/2000 [==============================] - 0s 8us/step - loss: 0.0107 - MSE: 0.0107\n",
      "Epoch 18/50\n",
      "2000/2000 [==============================] - 0s 7us/step - loss: 0.0095 - MSE: 0.0095\n",
      "Epoch 19/50\n",
      "2000/2000 [==============================] - 0s 7us/step - loss: 0.0095 - MSE: 0.0095\n",
      "Epoch 20/50\n",
      "2000/2000 [==============================] - 0s 8us/step - loss: 0.0095 - MSE: 0.0095\n",
      "Epoch 21/50\n",
      "2000/2000 [==============================] - 0s 7us/step - loss: 0.0093 - MSE: 0.0093\n",
      "Epoch 22/50\n",
      "2000/2000 [==============================] - 0s 7us/step - loss: 0.0094 - MSE: 0.0094\n",
      "Epoch 23/50\n",
      "2000/2000 [==============================] - 0s 8us/step - loss: 0.0091 - MSE: 0.0091\n",
      "Epoch 24/50\n",
      "2000/2000 [==============================] - 0s 7us/step - loss: 0.0085 - MSE: 0.0085\n",
      "Epoch 25/50\n",
      "2000/2000 [==============================] - 0s 7us/step - loss: 0.0088 - MSE: 0.0088\n",
      "Epoch 26/50\n",
      "2000/2000 [==============================] - 0s 7us/step - loss: 0.0090 - MSE: 0.0090\n",
      "Epoch 27/50\n",
      "2000/2000 [==============================] - 0s 7us/step - loss: 0.0085 - MSE: 0.0085\n",
      "Epoch 28/50\n",
      "2000/2000 [==============================] - 0s 7us/step - loss: 0.0088 - MSE: 0.0088\n",
      "Epoch 29/50\n",
      "2000/2000 [==============================] - 0s 7us/step - loss: 0.0084 - MSE: 0.0084\n",
      "Epoch 30/50\n",
      "2000/2000 [==============================] - 0s 8us/step - loss: 0.0088 - MSE: 0.0088\n",
      "Epoch 31/50\n",
      "2000/2000 [==============================] - 0s 7us/step - loss: 0.0085 - MSE: 0.0085\n",
      "Epoch 32/50\n",
      "2000/2000 [==============================] - 0s 7us/step - loss: 0.0084 - MSE: 0.0084\n",
      "Epoch 33/50\n",
      "2000/2000 [==============================] - 0s 8us/step - loss: 0.0084 - MSE: 0.0084\n",
      "Epoch 34/50\n",
      "2000/2000 [==============================] - 0s 7us/step - loss: 0.0081 - MSE: 0.0081\n",
      "Epoch 35/50\n",
      "2000/2000 [==============================] - 0s 7us/step - loss: 0.0077 - MSE: 0.0077\n",
      "Epoch 36/50\n",
      "2000/2000 [==============================] - 0s 8us/step - loss: 0.0081 - MSE: 0.0081\n",
      "Epoch 37/50\n",
      "2000/2000 [==============================] - 0s 7us/step - loss: 0.0084 - MSE: 0.0084\n",
      "Epoch 38/50\n",
      "2000/2000 [==============================] - 0s 7us/step - loss: 0.0084 - MSE: 0.0084\n",
      "Epoch 39/50\n",
      "2000/2000 [==============================] - 0s 7us/step - loss: 0.0080 - MSE: 0.0080\n",
      "Epoch 40/50\n",
      "2000/2000 [==============================] - 0s 7us/step - loss: 0.0080 - MSE: 0.0080\n",
      "Epoch 41/50\n",
      "2000/2000 [==============================] - 0s 7us/step - loss: 0.0081 - MSE: 0.0081\n",
      "Epoch 42/50\n",
      "2000/2000 [==============================] - 0s 7us/step - loss: 0.0080 - MSE: 0.0080\n",
      "Epoch 43/50\n",
      "2000/2000 [==============================] - 0s 8us/step - loss: 0.0083 - MSE: 0.0083\n",
      "Epoch 44/50\n",
      "2000/2000 [==============================] - 0s 7us/step - loss: 0.0078 - MSE: 0.0078\n",
      "Epoch 45/50\n",
      "2000/2000 [==============================] - 0s 7us/step - loss: 0.0080 - MSE: 0.0080\n",
      "Epoch 46/50\n",
      "2000/2000 [==============================] - 0s 8us/step - loss: 0.0081 - MSE: 0.0081\n",
      "Epoch 47/50\n",
      "2000/2000 [==============================] - 0s 7us/step - loss: 0.0078 - MSE: 0.0078\n",
      "Epoch 48/50\n",
      "2000/2000 [==============================] - 0s 7us/step - loss: 0.0079 - MSE: 0.0079\n",
      "Epoch 49/50\n",
      "2000/2000 [==============================] - 0s 7us/step - loss: 0.0078 - MSE: 0.0078\n",
      "Epoch 50/50\n",
      "2000/2000 [==============================] - 0s 7us/step - loss: 0.0078 - MSE: 0.0078\n"
     ]
    },
    {
     "data": {
      "text/plain": [
       "<keras.callbacks.callbacks.History at 0x7fef05207e10>"
      ]
     },
     "execution_count": 122,
     "metadata": {},
     "output_type": "execute_result"
    }
   ],
   "source": [
    "model.fit(\n",
    "    X_train1, y_train1, \n",
    "    batch_size=128, \n",
    "    epochs=50, \n",
    "    shuffle=True)"
   ]
  },
  {
   "cell_type": "code",
   "execution_count": 124,
   "metadata": {},
   "outputs": [
    {
     "name": "stdout",
     "output_type": "stream",
     "text": [
      "R2 in sample is 0.6900525231151728\n",
      "R2 out of sample is 0.659816024404519\n",
      "MSE in sample is 0.006633094887035928\n",
      "MSE out of sample is 0.00934220571682359\n",
      "MAE in sample is 0.044622060988219386\n",
      "MAE out of sample is 0.05548630447895405\n"
     ]
    }
   ],
   "source": [
    "metrics(model, X_train1, X_test1, y_train1, y_test1)"
   ]
  },
  {
   "cell_type": "code",
   "execution_count": null,
   "metadata": {},
   "outputs": [],
   "source": []
  },
  {
   "cell_type": "code",
   "execution_count": null,
   "metadata": {},
   "outputs": [],
   "source": []
  },
  {
   "cell_type": "code",
   "execution_count": null,
   "metadata": {},
   "outputs": [],
   "source": []
  }
 ],
 "metadata": {
  "kernelspec": {
   "display_name": "Python 3",
   "language": "python",
   "name": "python3"
  },
  "language_info": {
   "codemirror_mode": {
    "name": "ipython",
    "version": 3
   },
   "file_extension": ".py",
   "mimetype": "text/x-python",
   "name": "python",
   "nbconvert_exporter": "python",
   "pygments_lexer": "ipython3",
   "version": "3.7.4"
  }
 },
 "nbformat": 4,
 "nbformat_minor": 4
}
